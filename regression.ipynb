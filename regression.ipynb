{
 "cells": [
  {
   "cell_type": "markdown",
   "id": "fQrJhncQzT9V",
   "metadata": {
    "id": "fQrJhncQzT9V"
   },
   "source": [
    "# **Регрессия**\n"
   ]
  },
  {
   "cell_type": "code",
   "execution_count": 59,
   "id": "XeGMKWh9u1Ia",
   "metadata": {
    "colab": {
     "base_uri": "https://localhost:8080/"
    },
    "executionInfo": {
     "elapsed": 3019,
     "status": "ok",
     "timestamp": 1669634964696,
     "user": {
      "displayName": "Артем Савочкин",
      "userId": "12296895567675270115"
     },
     "user_tz": -180
    },
    "id": "XeGMKWh9u1Ia",
    "outputId": "2dd4af56-ca41-4281-a026-6dd1baeefffb"
   },
   "outputs": [
    {
     "name": "stdout",
     "output_type": "stream",
     "text": [
      "Drive already mounted at /content/drive/; to attempt to forcibly remount, call drive.mount(\"/content/drive/\", force_remount=True).\n"
     ]
    }
   ],
   "source": [
    "# Если запуск производится в jupyter-notebook,то этот блок кода не нужен\n",
    "from google.colab import drive\n",
    "drive.mount(\"/content/drive/\")"
   ]
  },
  {
   "cell_type": "code",
   "execution_count": 12,
   "id": "GfjPDhGHu5Hc",
   "metadata": {
    "executionInfo": {
     "elapsed": 6,
     "status": "ok",
     "timestamp": 1669634964696,
     "user": {
      "displayName": "Артем Савочкин",
      "userId": "12296895567675270115"
     },
     "user_tz": -180
    },
    "id": "GfjPDhGHu5Hc"
   },
   "outputs": [],
   "source": [
    "import pandas as pd\n",
    "import numpy as np\n",
    "import seaborn as sns\n",
    "import matplotlib.pyplot as plt"
   ]
  },
  {
   "cell_type": "markdown",
   "id": "xH_PPag4bsIG",
   "metadata": {
    "id": "xH_PPag4bsIG"
   },
   "source": [
    "# Подготовка данных\n"
   ]
  },
  {
   "cell_type": "markdown",
   "id": "3D3UeLXIzoTQ",
   "metadata": {
    "id": "3D3UeLXIzoTQ"
   },
   "source": [
    "Загружаем датасет"
   ]
  },
  {
   "cell_type": "code",
   "execution_count": 2,
   "id": "-guTDAL6vGJZ",
   "metadata": {
    "executionInfo": {
     "elapsed": 7,
     "status": "ok",
     "timestamp": 1669634964697,
     "user": {
      "displayName": "Артем Савочкин",
      "userId": "12296895567675270115"
     },
     "user_tz": -180
    },
    "id": "-guTDAL6vGJZ"
   },
   "outputs": [],
   "source": [
    "#data = pd.read_csv(\"/content/drive/My Drive/Регрессия/train.csv\")\n",
    "data = pd.read_csv(\"train.csv\")"
   ]
  },
  {
   "cell_type": "code",
   "execution_count": 3,
   "id": "rZeITkvGvRN8",
   "metadata": {
    "colab": {
     "base_uri": "https://localhost:8080/",
     "height": 270
    },
    "executionInfo": {
     "elapsed": 6,
     "status": "ok",
     "timestamp": 1669634964697,
     "user": {
      "displayName": "Артем Савочкин",
      "userId": "12296895567675270115"
     },
     "user_tz": -180
    },
    "id": "rZeITkvGvRN8",
    "outputId": "14ec3e4a-643f-4637-d07a-12d4ebb3e087"
   },
   "outputs": [
    {
     "data": {
      "text/html": [
       "<div>\n",
       "<style scoped>\n",
       "    .dataframe tbody tr th:only-of-type {\n",
       "        vertical-align: middle;\n",
       "    }\n",
       "\n",
       "    .dataframe tbody tr th {\n",
       "        vertical-align: top;\n",
       "    }\n",
       "\n",
       "    .dataframe thead th {\n",
       "        text-align: right;\n",
       "    }\n",
       "</style>\n",
       "<table border=\"1\" class=\"dataframe\">\n",
       "  <thead>\n",
       "    <tr style=\"text-align: right;\">\n",
       "      <th></th>\n",
       "      <th>Id</th>\n",
       "      <th>DistrictId</th>\n",
       "      <th>Rooms</th>\n",
       "      <th>Square</th>\n",
       "      <th>LifeSquare</th>\n",
       "      <th>KitchenSquare</th>\n",
       "      <th>Floor</th>\n",
       "      <th>HouseFloor</th>\n",
       "      <th>HouseYear</th>\n",
       "      <th>Ecology_1</th>\n",
       "      <th>Ecology_2</th>\n",
       "      <th>Ecology_3</th>\n",
       "      <th>Social_1</th>\n",
       "      <th>Social_2</th>\n",
       "      <th>Social_3</th>\n",
       "      <th>Healthcare_1</th>\n",
       "      <th>Helthcare_2</th>\n",
       "      <th>Shops_1</th>\n",
       "      <th>Shops_2</th>\n",
       "      <th>Price</th>\n",
       "    </tr>\n",
       "  </thead>\n",
       "  <tbody>\n",
       "    <tr>\n",
       "      <th>0</th>\n",
       "      <td>11809</td>\n",
       "      <td>27</td>\n",
       "      <td>3.0</td>\n",
       "      <td>115.027311</td>\n",
       "      <td>NaN</td>\n",
       "      <td>10.0</td>\n",
       "      <td>4</td>\n",
       "      <td>10.0</td>\n",
       "      <td>2014</td>\n",
       "      <td>0.075424</td>\n",
       "      <td>B</td>\n",
       "      <td>B</td>\n",
       "      <td>11</td>\n",
       "      <td>3097</td>\n",
       "      <td>0</td>\n",
       "      <td>NaN</td>\n",
       "      <td>0</td>\n",
       "      <td>0</td>\n",
       "      <td>B</td>\n",
       "      <td>305018.871089</td>\n",
       "    </tr>\n",
       "    <tr>\n",
       "      <th>1</th>\n",
       "      <td>3013</td>\n",
       "      <td>22</td>\n",
       "      <td>1.0</td>\n",
       "      <td>39.832524</td>\n",
       "      <td>23.169223</td>\n",
       "      <td>8.0</td>\n",
       "      <td>7</td>\n",
       "      <td>8.0</td>\n",
       "      <td>1966</td>\n",
       "      <td>0.118537</td>\n",
       "      <td>B</td>\n",
       "      <td>B</td>\n",
       "      <td>30</td>\n",
       "      <td>6207</td>\n",
       "      <td>1</td>\n",
       "      <td>1183.0</td>\n",
       "      <td>1</td>\n",
       "      <td>0</td>\n",
       "      <td>B</td>\n",
       "      <td>177734.553407</td>\n",
       "    </tr>\n",
       "    <tr>\n",
       "      <th>2</th>\n",
       "      <td>8215</td>\n",
       "      <td>1</td>\n",
       "      <td>3.0</td>\n",
       "      <td>78.342215</td>\n",
       "      <td>47.671972</td>\n",
       "      <td>10.0</td>\n",
       "      <td>2</td>\n",
       "      <td>17.0</td>\n",
       "      <td>1988</td>\n",
       "      <td>0.025609</td>\n",
       "      <td>B</td>\n",
       "      <td>B</td>\n",
       "      <td>33</td>\n",
       "      <td>5261</td>\n",
       "      <td>0</td>\n",
       "      <td>240.0</td>\n",
       "      <td>3</td>\n",
       "      <td>1</td>\n",
       "      <td>B</td>\n",
       "      <td>282078.720850</td>\n",
       "    </tr>\n",
       "    <tr>\n",
       "      <th>3</th>\n",
       "      <td>2352</td>\n",
       "      <td>1</td>\n",
       "      <td>1.0</td>\n",
       "      <td>40.409907</td>\n",
       "      <td>NaN</td>\n",
       "      <td>1.0</td>\n",
       "      <td>10</td>\n",
       "      <td>22.0</td>\n",
       "      <td>1977</td>\n",
       "      <td>0.007122</td>\n",
       "      <td>B</td>\n",
       "      <td>B</td>\n",
       "      <td>1</td>\n",
       "      <td>264</td>\n",
       "      <td>0</td>\n",
       "      <td>NaN</td>\n",
       "      <td>0</td>\n",
       "      <td>1</td>\n",
       "      <td>B</td>\n",
       "      <td>168106.007630</td>\n",
       "    </tr>\n",
       "    <tr>\n",
       "      <th>4</th>\n",
       "      <td>13866</td>\n",
       "      <td>94</td>\n",
       "      <td>2.0</td>\n",
       "      <td>64.285067</td>\n",
       "      <td>38.562517</td>\n",
       "      <td>9.0</td>\n",
       "      <td>16</td>\n",
       "      <td>16.0</td>\n",
       "      <td>1972</td>\n",
       "      <td>0.282798</td>\n",
       "      <td>B</td>\n",
       "      <td>B</td>\n",
       "      <td>33</td>\n",
       "      <td>8667</td>\n",
       "      <td>2</td>\n",
       "      <td>NaN</td>\n",
       "      <td>0</td>\n",
       "      <td>6</td>\n",
       "      <td>B</td>\n",
       "      <td>343995.102962</td>\n",
       "    </tr>\n",
       "  </tbody>\n",
       "</table>\n",
       "</div>"
      ],
      "text/plain": [
       "      Id  DistrictId  Rooms      Square  LifeSquare  KitchenSquare  Floor  \\\n",
       "0  11809          27    3.0  115.027311         NaN           10.0      4   \n",
       "1   3013          22    1.0   39.832524   23.169223            8.0      7   \n",
       "2   8215           1    3.0   78.342215   47.671972           10.0      2   \n",
       "3   2352           1    1.0   40.409907         NaN            1.0     10   \n",
       "4  13866          94    2.0   64.285067   38.562517            9.0     16   \n",
       "\n",
       "   HouseFloor  HouseYear  Ecology_1 Ecology_2 Ecology_3  Social_1  Social_2  \\\n",
       "0        10.0       2014   0.075424         B         B        11      3097   \n",
       "1         8.0       1966   0.118537         B         B        30      6207   \n",
       "2        17.0       1988   0.025609         B         B        33      5261   \n",
       "3        22.0       1977   0.007122         B         B         1       264   \n",
       "4        16.0       1972   0.282798         B         B        33      8667   \n",
       "\n",
       "   Social_3  Healthcare_1  Helthcare_2  Shops_1 Shops_2          Price  \n",
       "0         0           NaN            0        0       B  305018.871089  \n",
       "1         1        1183.0            1        0       B  177734.553407  \n",
       "2         0         240.0            3        1       B  282078.720850  \n",
       "3         0           NaN            0        1       B  168106.007630  \n",
       "4         2           NaN            0        6       B  343995.102962  "
      ]
     },
     "execution_count": 3,
     "metadata": {},
     "output_type": "execute_result"
    }
   ],
   "source": [
    "data.head()"
   ]
  },
  {
   "cell_type": "markdown",
   "id": "DELn5r7qzxxM",
   "metadata": {
    "id": "DELn5r7qzxxM"
   },
   "source": [
    "Получаем правильные ответы для задачи и удаляем столбцы Price и Id из данных"
   ]
  },
  {
   "cell_type": "code",
   "execution_count": 4,
   "id": "bHncPt1CBLS4",
   "metadata": {
    "colab": {
     "base_uri": "https://localhost:8080/"
    },
    "executionInfo": {
     "elapsed": 4,
     "status": "ok",
     "timestamp": 1669634967004,
     "user": {
      "displayName": "Артем Савочкин",
      "userId": "12296895567675270115"
     },
     "user_tz": -180
    },
    "id": "bHncPt1CBLS4",
    "outputId": "4c9a06f8-ae36-4180-f7c1-ec38c38f5f74"
   },
   "outputs": [
    {
     "data": {
      "text/plain": [
       "0       11809\n",
       "1        3013\n",
       "2        8215\n",
       "3        2352\n",
       "4       13866\n",
       "        ...  \n",
       "9995     1260\n",
       "9996    16265\n",
       "9997     2795\n",
       "9998    14561\n",
       "9999     7202\n",
       "Name: Id, Length: 10000, dtype: int64"
      ]
     },
     "execution_count": 4,
     "metadata": {},
     "output_type": "execute_result"
    }
   ],
   "source": [
    "target = data[\"Price\"]\n",
    "data.pop(\"Price\")\n",
    "data.pop(\"Id\")"
   ]
  },
  {
   "cell_type": "markdown",
   "id": "D0j7uwKIr-xP",
   "metadata": {
    "id": "D0j7uwKIr-xP"
   },
   "source": [
    "Посмотрим основную информацию и статистические характеристики датасета"
   ]
  },
  {
   "cell_type": "code",
   "execution_count": 5,
   "id": "CmJADgq7B42c",
   "metadata": {
    "colab": {
     "base_uri": "https://localhost:8080/"
    },
    "executionInfo": {
     "elapsed": 4,
     "status": "ok",
     "timestamp": 1669634967580,
     "user": {
      "displayName": "Артем Савочкин",
      "userId": "12296895567675270115"
     },
     "user_tz": -180
    },
    "id": "CmJADgq7B42c",
    "outputId": "70a4df50-90ff-4d2e-89ea-f41a0d3d11f2"
   },
   "outputs": [
    {
     "name": "stdout",
     "output_type": "stream",
     "text": [
      "<class 'pandas.core.frame.DataFrame'>\n",
      "RangeIndex: 10000 entries, 0 to 9999\n",
      "Data columns (total 18 columns):\n",
      " #   Column         Non-Null Count  Dtype  \n",
      "---  ------         --------------  -----  \n",
      " 0   DistrictId     10000 non-null  int64  \n",
      " 1   Rooms          10000 non-null  float64\n",
      " 2   Square         10000 non-null  float64\n",
      " 3   LifeSquare     7887 non-null   float64\n",
      " 4   KitchenSquare  10000 non-null  float64\n",
      " 5   Floor          10000 non-null  int64  \n",
      " 6   HouseFloor     10000 non-null  float64\n",
      " 7   HouseYear      10000 non-null  int64  \n",
      " 8   Ecology_1      10000 non-null  float64\n",
      " 9   Ecology_2      10000 non-null  object \n",
      " 10  Ecology_3      10000 non-null  object \n",
      " 11  Social_1       10000 non-null  int64  \n",
      " 12  Social_2       10000 non-null  int64  \n",
      " 13  Social_3       10000 non-null  int64  \n",
      " 14  Healthcare_1   5202 non-null   float64\n",
      " 15  Helthcare_2    10000 non-null  int64  \n",
      " 16  Shops_1        10000 non-null  int64  \n",
      " 17  Shops_2        10000 non-null  object \n",
      "dtypes: float64(7), int64(8), object(3)\n",
      "memory usage: 1.4+ MB\n"
     ]
    }
   ],
   "source": [
    "data.info()"
   ]
  },
  {
   "cell_type": "code",
   "execution_count": 6,
   "id": "2upWl_xCE3Ux",
   "metadata": {
    "colab": {
     "base_uri": "https://localhost:8080/",
     "height": 364
    },
    "executionInfo": {
     "elapsed": 400,
     "status": "ok",
     "timestamp": 1669634968327,
     "user": {
      "displayName": "Артем Савочкин",
      "userId": "12296895567675270115"
     },
     "user_tz": -180
    },
    "id": "2upWl_xCE3Ux",
    "outputId": "849c55d7-bea2-4752-e156-ed2f7e04b558"
   },
   "outputs": [
    {
     "data": {
      "text/html": [
       "<div>\n",
       "<style scoped>\n",
       "    .dataframe tbody tr th:only-of-type {\n",
       "        vertical-align: middle;\n",
       "    }\n",
       "\n",
       "    .dataframe tbody tr th {\n",
       "        vertical-align: top;\n",
       "    }\n",
       "\n",
       "    .dataframe thead th {\n",
       "        text-align: right;\n",
       "    }\n",
       "</style>\n",
       "<table border=\"1\" class=\"dataframe\">\n",
       "  <thead>\n",
       "    <tr style=\"text-align: right;\">\n",
       "      <th></th>\n",
       "      <th>DistrictId</th>\n",
       "      <th>Rooms</th>\n",
       "      <th>Square</th>\n",
       "      <th>LifeSquare</th>\n",
       "      <th>KitchenSquare</th>\n",
       "      <th>Floor</th>\n",
       "      <th>HouseFloor</th>\n",
       "      <th>HouseYear</th>\n",
       "      <th>Ecology_1</th>\n",
       "      <th>Social_1</th>\n",
       "      <th>Social_2</th>\n",
       "      <th>Social_3</th>\n",
       "      <th>Healthcare_1</th>\n",
       "      <th>Helthcare_2</th>\n",
       "      <th>Shops_1</th>\n",
       "    </tr>\n",
       "  </thead>\n",
       "  <tbody>\n",
       "    <tr>\n",
       "      <th>count</th>\n",
       "      <td>10000.000000</td>\n",
       "      <td>10000.000000</td>\n",
       "      <td>10000.000000</td>\n",
       "      <td>7887.000000</td>\n",
       "      <td>10000.000000</td>\n",
       "      <td>10000.000000</td>\n",
       "      <td>10000.000000</td>\n",
       "      <td>1.000000e+04</td>\n",
       "      <td>10000.000000</td>\n",
       "      <td>10000.000000</td>\n",
       "      <td>10000.000000</td>\n",
       "      <td>10000.000000</td>\n",
       "      <td>5202.000000</td>\n",
       "      <td>10000.000000</td>\n",
       "      <td>10000.000000</td>\n",
       "    </tr>\n",
       "    <tr>\n",
       "      <th>mean</th>\n",
       "      <td>50.400800</td>\n",
       "      <td>1.890500</td>\n",
       "      <td>56.315775</td>\n",
       "      <td>37.199645</td>\n",
       "      <td>6.273300</td>\n",
       "      <td>8.526700</td>\n",
       "      <td>12.609400</td>\n",
       "      <td>3.990166e+03</td>\n",
       "      <td>0.118858</td>\n",
       "      <td>24.687000</td>\n",
       "      <td>5352.157400</td>\n",
       "      <td>8.039200</td>\n",
       "      <td>1142.904460</td>\n",
       "      <td>1.319500</td>\n",
       "      <td>4.231300</td>\n",
       "    </tr>\n",
       "    <tr>\n",
       "      <th>std</th>\n",
       "      <td>43.587592</td>\n",
       "      <td>0.839512</td>\n",
       "      <td>21.058732</td>\n",
       "      <td>86.241209</td>\n",
       "      <td>28.560917</td>\n",
       "      <td>5.241148</td>\n",
       "      <td>6.775974</td>\n",
       "      <td>2.005003e+05</td>\n",
       "      <td>0.119025</td>\n",
       "      <td>17.532614</td>\n",
       "      <td>4006.799803</td>\n",
       "      <td>23.831875</td>\n",
       "      <td>1021.517264</td>\n",
       "      <td>1.493601</td>\n",
       "      <td>4.806341</td>\n",
       "    </tr>\n",
       "    <tr>\n",
       "      <th>min</th>\n",
       "      <td>0.000000</td>\n",
       "      <td>0.000000</td>\n",
       "      <td>1.136859</td>\n",
       "      <td>0.370619</td>\n",
       "      <td>0.000000</td>\n",
       "      <td>1.000000</td>\n",
       "      <td>0.000000</td>\n",
       "      <td>1.910000e+03</td>\n",
       "      <td>0.000000</td>\n",
       "      <td>0.000000</td>\n",
       "      <td>168.000000</td>\n",
       "      <td>0.000000</td>\n",
       "      <td>0.000000</td>\n",
       "      <td>0.000000</td>\n",
       "      <td>0.000000</td>\n",
       "    </tr>\n",
       "    <tr>\n",
       "      <th>25%</th>\n",
       "      <td>20.000000</td>\n",
       "      <td>1.000000</td>\n",
       "      <td>41.774881</td>\n",
       "      <td>22.769832</td>\n",
       "      <td>1.000000</td>\n",
       "      <td>4.000000</td>\n",
       "      <td>9.000000</td>\n",
       "      <td>1.974000e+03</td>\n",
       "      <td>0.017647</td>\n",
       "      <td>6.000000</td>\n",
       "      <td>1564.000000</td>\n",
       "      <td>0.000000</td>\n",
       "      <td>350.000000</td>\n",
       "      <td>0.000000</td>\n",
       "      <td>1.000000</td>\n",
       "    </tr>\n",
       "    <tr>\n",
       "      <th>50%</th>\n",
       "      <td>36.000000</td>\n",
       "      <td>2.000000</td>\n",
       "      <td>52.513310</td>\n",
       "      <td>32.781260</td>\n",
       "      <td>6.000000</td>\n",
       "      <td>7.000000</td>\n",
       "      <td>13.000000</td>\n",
       "      <td>1.977000e+03</td>\n",
       "      <td>0.075424</td>\n",
       "      <td>25.000000</td>\n",
       "      <td>5285.000000</td>\n",
       "      <td>2.000000</td>\n",
       "      <td>900.000000</td>\n",
       "      <td>1.000000</td>\n",
       "      <td>3.000000</td>\n",
       "    </tr>\n",
       "    <tr>\n",
       "      <th>75%</th>\n",
       "      <td>75.000000</td>\n",
       "      <td>2.000000</td>\n",
       "      <td>65.900625</td>\n",
       "      <td>45.128803</td>\n",
       "      <td>9.000000</td>\n",
       "      <td>12.000000</td>\n",
       "      <td>17.000000</td>\n",
       "      <td>2.001000e+03</td>\n",
       "      <td>0.195781</td>\n",
       "      <td>36.000000</td>\n",
       "      <td>7227.000000</td>\n",
       "      <td>5.000000</td>\n",
       "      <td>1548.000000</td>\n",
       "      <td>2.000000</td>\n",
       "      <td>6.000000</td>\n",
       "    </tr>\n",
       "    <tr>\n",
       "      <th>max</th>\n",
       "      <td>209.000000</td>\n",
       "      <td>19.000000</td>\n",
       "      <td>641.065193</td>\n",
       "      <td>7480.592129</td>\n",
       "      <td>2014.000000</td>\n",
       "      <td>42.000000</td>\n",
       "      <td>117.000000</td>\n",
       "      <td>2.005201e+07</td>\n",
       "      <td>0.521867</td>\n",
       "      <td>74.000000</td>\n",
       "      <td>19083.000000</td>\n",
       "      <td>141.000000</td>\n",
       "      <td>4849.000000</td>\n",
       "      <td>6.000000</td>\n",
       "      <td>23.000000</td>\n",
       "    </tr>\n",
       "  </tbody>\n",
       "</table>\n",
       "</div>"
      ],
      "text/plain": [
       "         DistrictId         Rooms        Square   LifeSquare  KitchenSquare  \\\n",
       "count  10000.000000  10000.000000  10000.000000  7887.000000   10000.000000   \n",
       "mean      50.400800      1.890500     56.315775    37.199645       6.273300   \n",
       "std       43.587592      0.839512     21.058732    86.241209      28.560917   \n",
       "min        0.000000      0.000000      1.136859     0.370619       0.000000   \n",
       "25%       20.000000      1.000000     41.774881    22.769832       1.000000   \n",
       "50%       36.000000      2.000000     52.513310    32.781260       6.000000   \n",
       "75%       75.000000      2.000000     65.900625    45.128803       9.000000   \n",
       "max      209.000000     19.000000    641.065193  7480.592129    2014.000000   \n",
       "\n",
       "              Floor    HouseFloor     HouseYear     Ecology_1      Social_1  \\\n",
       "count  10000.000000  10000.000000  1.000000e+04  10000.000000  10000.000000   \n",
       "mean       8.526700     12.609400  3.990166e+03      0.118858     24.687000   \n",
       "std        5.241148      6.775974  2.005003e+05      0.119025     17.532614   \n",
       "min        1.000000      0.000000  1.910000e+03      0.000000      0.000000   \n",
       "25%        4.000000      9.000000  1.974000e+03      0.017647      6.000000   \n",
       "50%        7.000000     13.000000  1.977000e+03      0.075424     25.000000   \n",
       "75%       12.000000     17.000000  2.001000e+03      0.195781     36.000000   \n",
       "max       42.000000    117.000000  2.005201e+07      0.521867     74.000000   \n",
       "\n",
       "           Social_2      Social_3  Healthcare_1   Helthcare_2       Shops_1  \n",
       "count  10000.000000  10000.000000   5202.000000  10000.000000  10000.000000  \n",
       "mean    5352.157400      8.039200   1142.904460      1.319500      4.231300  \n",
       "std     4006.799803     23.831875   1021.517264      1.493601      4.806341  \n",
       "min      168.000000      0.000000      0.000000      0.000000      0.000000  \n",
       "25%     1564.000000      0.000000    350.000000      0.000000      1.000000  \n",
       "50%     5285.000000      2.000000    900.000000      1.000000      3.000000  \n",
       "75%     7227.000000      5.000000   1548.000000      2.000000      6.000000  \n",
       "max    19083.000000    141.000000   4849.000000      6.000000     23.000000  "
      ]
     },
     "execution_count": 6,
     "metadata": {},
     "output_type": "execute_result"
    }
   ],
   "source": [
    "data.describe()"
   ]
  },
  {
   "cell_type": "markdown",
   "id": "29oXB-QYyeIe",
   "metadata": {
    "id": "29oXB-QYyeIe"
   },
   "source": [
    "Заполняем пропуски данных"
   ]
  },
  {
   "cell_type": "code",
   "execution_count": 7,
   "id": "BK3dnwWFPkmv",
   "metadata": {
    "executionInfo": {
     "elapsed": 6,
     "status": "ok",
     "timestamp": 1669634969523,
     "user": {
      "displayName": "Артем Савочкин",
      "userId": "12296895567675270115"
     },
     "user_tz": -180
    },
    "id": "BK3dnwWFPkmv"
   },
   "outputs": [],
   "source": [
    "data[\"LifeSquare\"] = data[\"LifeSquare\"].fillna(data[\"LifeSquare\"].describe()[\"50%\"])\n",
    "data[\"Healthcare_1\"] = data[\"Healthcare_1\"].fillna(data[\"Healthcare_1\"].describe()[\"50%\"])"
   ]
  },
  {
   "cell_type": "code",
   "execution_count": 8,
   "id": "4kqnvecCS_iC",
   "metadata": {
    "colab": {
     "base_uri": "https://localhost:8080/"
    },
    "executionInfo": {
     "elapsed": 7,
     "status": "ok",
     "timestamp": 1669634969525,
     "user": {
      "displayName": "Артем Савочкин",
      "userId": "12296895567675270115"
     },
     "user_tz": -180
    },
    "id": "4kqnvecCS_iC",
    "outputId": "e7bfeaea-7e62-4b52-cc1a-cc1745a7b307"
   },
   "outputs": [
    {
     "name": "stdout",
     "output_type": "stream",
     "text": [
      "<class 'pandas.core.frame.DataFrame'>\n",
      "RangeIndex: 10000 entries, 0 to 9999\n",
      "Data columns (total 18 columns):\n",
      " #   Column         Non-Null Count  Dtype  \n",
      "---  ------         --------------  -----  \n",
      " 0   DistrictId     10000 non-null  int64  \n",
      " 1   Rooms          10000 non-null  float64\n",
      " 2   Square         10000 non-null  float64\n",
      " 3   LifeSquare     10000 non-null  float64\n",
      " 4   KitchenSquare  10000 non-null  float64\n",
      " 5   Floor          10000 non-null  int64  \n",
      " 6   HouseFloor     10000 non-null  float64\n",
      " 7   HouseYear      10000 non-null  int64  \n",
      " 8   Ecology_1      10000 non-null  float64\n",
      " 9   Ecology_2      10000 non-null  object \n",
      " 10  Ecology_3      10000 non-null  object \n",
      " 11  Social_1       10000 non-null  int64  \n",
      " 12  Social_2       10000 non-null  int64  \n",
      " 13  Social_3       10000 non-null  int64  \n",
      " 14  Healthcare_1   10000 non-null  float64\n",
      " 15  Helthcare_2    10000 non-null  int64  \n",
      " 16  Shops_1        10000 non-null  int64  \n",
      " 17  Shops_2        10000 non-null  object \n",
      "dtypes: float64(7), int64(8), object(3)\n",
      "memory usage: 1.4+ MB\n"
     ]
    }
   ],
   "source": [
    "data.info()"
   ]
  },
  {
   "cell_type": "markdown",
   "id": "xUrm_YjjzHqs",
   "metadata": {
    "id": "xUrm_YjjzHqs"
   },
   "source": [
    "Создаём dummy-переменные"
   ]
  },
  {
   "cell_type": "code",
   "execution_count": 9,
   "id": "bvApS77iTm2v",
   "metadata": {
    "executionInfo": {
     "elapsed": 6,
     "status": "ok",
     "timestamp": 1669634970601,
     "user": {
      "displayName": "Артем Савочкин",
      "userId": "12296895567675270115"
     },
     "user_tz": -180
    },
    "id": "bvApS77iTm2v"
   },
   "outputs": [],
   "source": [
    "dummy_1 = pd.get_dummies(data.Ecology_2, prefix='Ec_2')\n",
    "dummy_2 = pd.get_dummies(data.Ecology_2, prefix='Ec_3')\n",
    "dummy_3 = pd.get_dummies(data.Ecology_2, prefix='Sh_2')"
   ]
  },
  {
   "cell_type": "code",
   "execution_count": 10,
   "id": "ZXThteq-uZSb",
   "metadata": {
    "colab": {
     "base_uri": "https://localhost:8080/"
    },
    "executionInfo": {
     "elapsed": 6,
     "status": "ok",
     "timestamp": 1669634971411,
     "user": {
      "displayName": "Артем Савочкин",
      "userId": "12296895567675270115"
     },
     "user_tz": -180
    },
    "id": "ZXThteq-uZSb",
    "outputId": "39c49648-7c78-4cbe-a584-147bd3f63cb4"
   },
   "outputs": [
    {
     "data": {
      "text/plain": [
       "0       B\n",
       "1       B\n",
       "2       B\n",
       "3       B\n",
       "4       B\n",
       "       ..\n",
       "9995    B\n",
       "9996    A\n",
       "9997    B\n",
       "9998    B\n",
       "9999    B\n",
       "Name: Shops_2, Length: 10000, dtype: object"
      ]
     },
     "execution_count": 10,
     "metadata": {},
     "output_type": "execute_result"
    }
   ],
   "source": [
    "data = pd.concat([data, dummy_1, dummy_2, dummy_3], axis=1)\n",
    "data.pop(\"Ecology_2\")\n",
    "data.pop(\"Ecology_3\")\n",
    "data.pop(\"Shops_2\")"
   ]
  },
  {
   "cell_type": "markdown",
   "id": "fSVjC5K6_0Mc",
   "metadata": {
    "id": "fSVjC5K6_0Mc"
   },
   "source": [
    "Посмотрим на корреляцию между признаками"
   ]
  },
  {
   "cell_type": "code",
   "execution_count": 13,
   "id": "UG76JqIR_kT9",
   "metadata": {
    "colab": {
     "base_uri": "https://localhost:8080/",
     "height": 1000
    },
    "executionInfo": {
     "elapsed": 2956,
     "status": "ok",
     "timestamp": 1669634976098,
     "user": {
      "displayName": "Артем Савочкин",
      "userId": "12296895567675270115"
     },
     "user_tz": -180
    },
    "id": "UG76JqIR_kT9",
    "outputId": "ca909c04-904c-4d51-a785-f8e49ecc5c0d"
   },
   "outputs": [
    {
     "data": {
      "image/png": "[encoded data removed]",
      "text/plain": [
       "<Figure size 1800x1440 with 2 Axes>"
      ]
     },
     "metadata": {
      "needs_background": "light"
     },
     "output_type": "display_data"
    }
   ],
   "source": [
    "BASE_FEATURE_NAMES = data.columns.tolist()\n",
    "\n",
    "plt.figure(figsize = (25,20))\n",
    "\n",
    "sns.set(font_scale=1.4)\n",
    "\n",
    "corr_matrix = data[BASE_FEATURE_NAMES].corr()\n",
    "corr_matrix = np.round(corr_matrix, 2)\n",
    "corr_matrix[np.abs(corr_matrix) < 0.3] = 0\n",
    "\n",
    "sns.heatmap(corr_matrix, annot=True, linewidths=.5, cmap='GnBu')\n",
    "\n",
    "plt.title('Correlation matrix')\n",
    "plt.show()"
   ]
  },
  {
   "cell_type": "code",
   "execution_count": 14,
   "id": "pTegK8o0W7Xw",
   "metadata": {
    "colab": {
     "base_uri": "https://localhost:8080/",
     "height": 299
    },
    "executionInfo": {
     "elapsed": 7,
     "status": "ok",
     "timestamp": 1669634976424,
     "user": {
      "displayName": "Артем Савочкин",
      "userId": "12296895567675270115"
     },
     "user_tz": -180
    },
    "id": "pTegK8o0W7Xw",
    "outputId": "895898f2-2caa-4416-c8de-8dd1b4936b2e"
   },
   "outputs": [
    {
     "data": {
      "text/html": [
       "<div>\n",
       "<style scoped>\n",
       "    .dataframe tbody tr th:only-of-type {\n",
       "        vertical-align: middle;\n",
       "    }\n",
       "\n",
       "    .dataframe tbody tr th {\n",
       "        vertical-align: top;\n",
       "    }\n",
       "\n",
       "    .dataframe thead th {\n",
       "        text-align: right;\n",
       "    }\n",
       "</style>\n",
       "<table border=\"1\" class=\"dataframe\">\n",
       "  <thead>\n",
       "    <tr style=\"text-align: right;\">\n",
       "      <th></th>\n",
       "      <th>DistrictId</th>\n",
       "      <th>Rooms</th>\n",
       "      <th>Square</th>\n",
       "      <th>LifeSquare</th>\n",
       "      <th>KitchenSquare</th>\n",
       "      <th>Floor</th>\n",
       "      <th>HouseFloor</th>\n",
       "      <th>HouseYear</th>\n",
       "      <th>Ecology_1</th>\n",
       "      <th>Social_1</th>\n",
       "      <th>...</th>\n",
       "      <th>Social_3</th>\n",
       "      <th>Healthcare_1</th>\n",
       "      <th>Helthcare_2</th>\n",
       "      <th>Shops_1</th>\n",
       "      <th>Ec_2_A</th>\n",
       "      <th>Ec_2_B</th>\n",
       "      <th>Ec_3_A</th>\n",
       "      <th>Ec_3_B</th>\n",
       "      <th>Sh_2_A</th>\n",
       "      <th>Sh_2_B</th>\n",
       "    </tr>\n",
       "  </thead>\n",
       "  <tbody>\n",
       "    <tr>\n",
       "      <th>0</th>\n",
       "      <td>27</td>\n",
       "      <td>3.0</td>\n",
       "      <td>115.027311</td>\n",
       "      <td>32.781260</td>\n",
       "      <td>10.0</td>\n",
       "      <td>4</td>\n",
       "      <td>10.0</td>\n",
       "      <td>2014</td>\n",
       "      <td>0.075424</td>\n",
       "      <td>11</td>\n",
       "      <td>...</td>\n",
       "      <td>0</td>\n",
       "      <td>900.0</td>\n",
       "      <td>0</td>\n",
       "      <td>0</td>\n",
       "      <td>0</td>\n",
       "      <td>1</td>\n",
       "      <td>0</td>\n",
       "      <td>1</td>\n",
       "      <td>0</td>\n",
       "      <td>1</td>\n",
       "    </tr>\n",
       "    <tr>\n",
       "      <th>1</th>\n",
       "      <td>22</td>\n",
       "      <td>1.0</td>\n",
       "      <td>39.832524</td>\n",
       "      <td>23.169223</td>\n",
       "      <td>8.0</td>\n",
       "      <td>7</td>\n",
       "      <td>8.0</td>\n",
       "      <td>1966</td>\n",
       "      <td>0.118537</td>\n",
       "      <td>30</td>\n",
       "      <td>...</td>\n",
       "      <td>1</td>\n",
       "      <td>1183.0</td>\n",
       "      <td>1</td>\n",
       "      <td>0</td>\n",
       "      <td>0</td>\n",
       "      <td>1</td>\n",
       "      <td>0</td>\n",
       "      <td>1</td>\n",
       "      <td>0</td>\n",
       "      <td>1</td>\n",
       "    </tr>\n",
       "    <tr>\n",
       "      <th>2</th>\n",
       "      <td>1</td>\n",
       "      <td>3.0</td>\n",
       "      <td>78.342215</td>\n",
       "      <td>47.671972</td>\n",
       "      <td>10.0</td>\n",
       "      <td>2</td>\n",
       "      <td>17.0</td>\n",
       "      <td>1988</td>\n",
       "      <td>0.025609</td>\n",
       "      <td>33</td>\n",
       "      <td>...</td>\n",
       "      <td>0</td>\n",
       "      <td>240.0</td>\n",
       "      <td>3</td>\n",
       "      <td>1</td>\n",
       "      <td>0</td>\n",
       "      <td>1</td>\n",
       "      <td>0</td>\n",
       "      <td>1</td>\n",
       "      <td>0</td>\n",
       "      <td>1</td>\n",
       "    </tr>\n",
       "    <tr>\n",
       "      <th>3</th>\n",
       "      <td>1</td>\n",
       "      <td>1.0</td>\n",
       "      <td>40.409907</td>\n",
       "      <td>32.781260</td>\n",
       "      <td>1.0</td>\n",
       "      <td>10</td>\n",
       "      <td>22.0</td>\n",
       "      <td>1977</td>\n",
       "      <td>0.007122</td>\n",
       "      <td>1</td>\n",
       "      <td>...</td>\n",
       "      <td>0</td>\n",
       "      <td>900.0</td>\n",
       "      <td>0</td>\n",
       "      <td>1</td>\n",
       "      <td>0</td>\n",
       "      <td>1</td>\n",
       "      <td>0</td>\n",
       "      <td>1</td>\n",
       "      <td>0</td>\n",
       "      <td>1</td>\n",
       "    </tr>\n",
       "    <tr>\n",
       "      <th>4</th>\n",
       "      <td>94</td>\n",
       "      <td>2.0</td>\n",
       "      <td>64.285067</td>\n",
       "      <td>38.562517</td>\n",
       "      <td>9.0</td>\n",
       "      <td>16</td>\n",
       "      <td>16.0</td>\n",
       "      <td>1972</td>\n",
       "      <td>0.282798</td>\n",
       "      <td>33</td>\n",
       "      <td>...</td>\n",
       "      <td>2</td>\n",
       "      <td>900.0</td>\n",
       "      <td>0</td>\n",
       "      <td>6</td>\n",
       "      <td>0</td>\n",
       "      <td>1</td>\n",
       "      <td>0</td>\n",
       "      <td>1</td>\n",
       "      <td>0</td>\n",
       "      <td>1</td>\n",
       "    </tr>\n",
       "  </tbody>\n",
       "</table>\n",
       "<p>5 rows × 21 columns</p>\n",
       "</div>"
      ],
      "text/plain": [
       "   DistrictId  Rooms      Square  LifeSquare  KitchenSquare  Floor  \\\n",
       "0          27    3.0  115.027311   32.781260           10.0      4   \n",
       "1          22    1.0   39.832524   23.169223            8.0      7   \n",
       "2           1    3.0   78.342215   47.671972           10.0      2   \n",
       "3           1    1.0   40.409907   32.781260            1.0     10   \n",
       "4          94    2.0   64.285067   38.562517            9.0     16   \n",
       "\n",
       "   HouseFloor  HouseYear  Ecology_1  Social_1  ...  Social_3  Healthcare_1  \\\n",
       "0        10.0       2014   0.075424        11  ...         0         900.0   \n",
       "1         8.0       1966   0.118537        30  ...         1        1183.0   \n",
       "2        17.0       1988   0.025609        33  ...         0         240.0   \n",
       "3        22.0       1977   0.007122         1  ...         0         900.0   \n",
       "4        16.0       1972   0.282798        33  ...         2         900.0   \n",
       "\n",
       "   Helthcare_2  Shops_1  Ec_2_A  Ec_2_B  Ec_3_A  Ec_3_B  Sh_2_A  Sh_2_B  \n",
       "0            0        0       0       1       0       1       0       1  \n",
       "1            1        0       0       1       0       1       0       1  \n",
       "2            3        1       0       1       0       1       0       1  \n",
       "3            0        1       0       1       0       1       0       1  \n",
       "4            0        6       0       1       0       1       0       1  \n",
       "\n",
       "[5 rows x 21 columns]"
      ]
     },
     "execution_count": 14,
     "metadata": {},
     "output_type": "execute_result"
    }
   ],
   "source": [
    "data.head()"
   ]
  },
  {
   "cell_type": "markdown",
   "id": "PDwsdz9O3tSB",
   "metadata": {
    "id": "PDwsdz9O3tSB"
   },
   "source": [
    "Разбиваем выборку на train и test"
   ]
  },
  {
   "cell_type": "code",
   "execution_count": 15,
   "id": "VmbDpCxnPjhU",
   "metadata": {
    "executionInfo": {
     "elapsed": 4,
     "status": "ok",
     "timestamp": 1669634978751,
     "user": {
      "displayName": "Артем Савочкин",
      "userId": "12296895567675270115"
     },
     "user_tz": -180
    },
    "id": "VmbDpCxnPjhU"
   },
   "outputs": [],
   "source": [
    "from sklearn.model_selection import train_test_split"
   ]
  },
  {
   "cell_type": "code",
   "execution_count": 16,
   "id": "p4xdQV0Luht4",
   "metadata": {
    "executionInfo": {
     "elapsed": 3,
     "status": "ok",
     "timestamp": 1669634978751,
     "user": {
      "displayName": "Артем Савочкин",
      "userId": "12296895567675270115"
     },
     "user_tz": -180
    },
    "id": "p4xdQV0Luht4"
   },
   "outputs": [],
   "source": [
    "X_train, X_test, y_train, y_test = train_test_split(data, target, test_size=0.2, shuffle=True, random_state=42)"
   ]
  },
  {
   "cell_type": "markdown",
   "id": "e2_1Gqksb68F",
   "metadata": {
    "id": "e2_1Gqksb68F"
   },
   "source": [
    "# Линейная регрессия"
   ]
  },
  {
   "cell_type": "markdown",
   "id": "wgPUUYHb4znM",
   "metadata": {
    "id": "wgPUUYHb4znM"
   },
   "source": [
    "Создаём модель линейной регрессти и обучаем её\n",
    "\n",
    "\n",
    "\n"
   ]
  },
  {
   "cell_type": "code",
   "execution_count": 17,
   "id": "Q-7Zahxrb1z1",
   "metadata": {
    "executionInfo": {
     "elapsed": 5,
     "status": "ok",
     "timestamp": 1669634980947,
     "user": {
      "displayName": "Артем Савочкин",
      "userId": "12296895567675270115"
     },
     "user_tz": -180
    },
    "id": "Q-7Zahxrb1z1"
   },
   "outputs": [],
   "source": [
    "from sklearn.linear_model import LinearRegression"
   ]
  },
  {
   "cell_type": "code",
   "execution_count": 18,
   "id": "9K9lFIsWcGaa",
   "metadata": {
    "executionInfo": {
     "elapsed": 4,
     "status": "ok",
     "timestamp": 1669634980948,
     "user": {
      "displayName": "Артем Савочкин",
      "userId": "12296895567675270115"
     },
     "user_tz": -180
    },
    "id": "9K9lFIsWcGaa"
   },
   "outputs": [],
   "source": [
    "lr = LinearRegression()"
   ]
  },
  {
   "cell_type": "code",
   "execution_count": 19,
   "id": "X1V9Pt_8cNHA",
   "metadata": {
    "colab": {
     "base_uri": "https://localhost:8080/"
    },
    "executionInfo": {
     "elapsed": 5,
     "status": "ok",
     "timestamp": 1669634981813,
     "user": {
      "displayName": "Артем Савочкин",
      "userId": "12296895567675270115"
     },
     "user_tz": -180
    },
    "id": "X1V9Pt_8cNHA",
    "outputId": "3ffdc4a1-f86c-498e-ef83-2a28ec74154e"
   },
   "outputs": [
    {
     "data": {
      "text/plain": [
       "LinearRegression()"
      ]
     },
     "execution_count": 19,
     "metadata": {},
     "output_type": "execute_result"
    }
   ],
   "source": [
    "lr.fit(X_train, y_train)"
   ]
  },
  {
   "cell_type": "markdown",
   "id": "-corOGpU6Kgt",
   "metadata": {
    "id": "-corOGpU6Kgt"
   },
   "source": [
    "Посчитаем значениея r2 метрики на обучающей и тестовой выборках"
   ]
  },
  {
   "cell_type": "code",
   "execution_count": 20,
   "id": "X709FC2zn5gh",
   "metadata": {
    "executionInfo": {
     "elapsed": 6,
     "status": "ok",
     "timestamp": 1669634983139,
     "user": {
      "displayName": "Артем Савочкин",
      "userId": "12296895567675270115"
     },
     "user_tz": -180
    },
    "id": "X709FC2zn5gh"
   },
   "outputs": [],
   "source": [
    "def calc_metric(model, x_test, y_test, metric):\n",
    "  y_pred = model.predict(x_test)\n",
    "  return metric(y_test, y_pred)"
   ]
  },
  {
   "cell_type": "code",
   "execution_count": 21,
   "id": "qr3um9zKd_BP",
   "metadata": {
    "executionInfo": {
     "elapsed": 6,
     "status": "ok",
     "timestamp": 1669634983140,
     "user": {
      "displayName": "Артем Савочкин",
      "userId": "12296895567675270115"
     },
     "user_tz": -180
    },
    "id": "qr3um9zKd_BP"
   },
   "outputs": [],
   "source": [
    "from sklearn.metrics import r2_score"
   ]
  },
  {
   "cell_type": "code",
   "execution_count": 22,
   "id": "owVCb3uoVJGp",
   "metadata": {
    "colab": {
     "base_uri": "https://localhost:8080/"
    },
    "executionInfo": {
     "elapsed": 3,
     "status": "ok",
     "timestamp": 1669634983500,
     "user": {
      "displayName": "Артем Савочкин",
      "userId": "12296895567675270115"
     },
     "user_tz": -180
    },
    "id": "owVCb3uoVJGp",
    "outputId": "8715f81c-3847-438a-b62e-a7975625e9c8"
   },
   "outputs": [
    {
     "data": {
      "text/plain": [
       "0.4866838657930923"
      ]
     },
     "execution_count": 22,
     "metadata": {},
     "output_type": "execute_result"
    }
   ],
   "source": [
    "r2_train = calc_metric(lr, X_train, y_train, r2_score)\n",
    "r2_train"
   ]
  },
  {
   "cell_type": "code",
   "execution_count": 23,
   "id": "EqfEfdfCecaW",
   "metadata": {
    "colab": {
     "base_uri": "https://localhost:8080/"
    },
    "executionInfo": {
     "elapsed": 5,
     "status": "ok",
     "timestamp": 1669634985092,
     "user": {
      "displayName": "Артем Савочкин",
      "userId": "12296895567675270115"
     },
     "user_tz": -180
    },
    "id": "EqfEfdfCecaW",
    "outputId": "24e820b3-943e-4259-bc7e-136777501032"
   },
   "outputs": [
    {
     "data": {
      "text/plain": [
       "0.4580231130572424"
      ]
     },
     "execution_count": 23,
     "metadata": {},
     "output_type": "execute_result"
    }
   ],
   "source": [
    "r2_test_lr = calc_metric(lr, X_test, y_test, r2_score)\n",
    "r2_test_lr"
   ]
  },
  {
   "cell_type": "markdown",
   "id": "8nmUdcMQ_ZeH",
   "metadata": {
    "id": "8nmUdcMQ_ZeH"
   },
   "source": [
    "Посмотрим на значения коэффициентов модели"
   ]
  },
  {
   "cell_type": "code",
   "execution_count": 24,
   "id": "RzZEJk65ep7i",
   "metadata": {
    "colab": {
     "base_uri": "https://localhost:8080/"
    },
    "executionInfo": {
     "elapsed": 10,
     "status": "ok",
     "timestamp": 1669634986193,
     "user": {
      "displayName": "Артем Савочкин",
      "userId": "12296895567675270115"
     },
     "user_tz": -180
    },
    "id": "RzZEJk65ep7i",
    "outputId": "d8104413-d59a-4d28-9c8c-e02c8cdba5a8"
   },
   "outputs": [
    {
     "data": {
      "text/plain": [
       "array([ 3.76794661e+02,  3.87764930e+04,  1.20684224e+03, -8.29653067e+01,\n",
       "        1.04381981e+01,  2.13189349e+03,  9.95094853e+02,  3.16048431e-03,\n",
       "       -3.81080097e+04,  1.55686848e+03, -2.71439919e+00,  1.03502441e+02,\n",
       "        7.61587637e+00,  6.92103251e+03, -8.80263312e+02, -7.69970231e+03,\n",
       "        7.69970231e+03, -7.69970231e+03,  7.69970231e+03, -7.69970231e+03,\n",
       "        7.69970231e+03])"
      ]
     },
     "execution_count": 24,
     "metadata": {},
     "output_type": "execute_result"
    }
   ],
   "source": [
    "lr.coef_"
   ]
  },
  {
   "cell_type": "code",
   "execution_count": 25,
   "id": "hOYeQ4RPfU-i",
   "metadata": {
    "executionInfo": {
     "elapsed": 7,
     "status": "ok",
     "timestamp": 1669634986194,
     "user": {
      "displayName": "Артем Савочкин",
      "userId": "12296895567675270115"
     },
     "user_tz": -180
    },
    "id": "hOYeQ4RPfU-i"
   },
   "outputs": [],
   "source": [
    "from matplotlib import pyplot as plt\n",
    "\n",
    "plt.rcParams['figure.figsize'] = 6, 4\n",
    "\n",
    "%matplotlib inline"
   ]
  },
  {
   "cell_type": "code",
   "execution_count": 26,
   "id": "qwhmow_pgGLd",
   "metadata": {
    "colab": {
     "base_uri": "https://localhost:8080/",
     "height": 295
    },
    "executionInfo": {
     "elapsed": 6,
     "status": "ok",
     "timestamp": 1669634987090,
     "user": {
      "displayName": "Артем Савочкин",
      "userId": "12296895567675270115"
     },
     "user_tz": -180
    },
    "id": "qwhmow_pgGLd",
    "outputId": "9956f98f-f81b-4e6c-a04a-66040556f982"
   },
   "outputs": [
    {
     "data": {
      "image/png": "[encoded data removed]",
      "text/plain": [
       "<Figure size 432x288 with 1 Axes>"
      ]
     },
     "metadata": {
      "needs_background": "light"
     },
     "output_type": "display_data"
    }
   ],
   "source": [
    "feature_names = list(data.keys())\n",
    "plt.barh(feature_names, lr.coef_.flatten())\n",
    "\n",
    "plt.xlabel(\"Вес признака\")\n",
    "plt.ylabel(\"Признак\")\n",
    "\n",
    "plt.show()"
   ]
  },
  {
   "cell_type": "markdown",
   "id": "1uVoJY-d_j0K",
   "metadata": {
    "id": "1uVoJY-d_j0K"
   },
   "source": [
    "Проведём стандартизацию данных и  ещё раз обучим линейную регрессию"
   ]
  },
  {
   "cell_type": "code",
   "execution_count": 27,
   "id": "2YeR_LV7gVGE",
   "metadata": {
    "executionInfo": {
     "elapsed": 2,
     "status": "ok",
     "timestamp": 1669634987683,
     "user": {
      "displayName": "Артем Савочкин",
      "userId": "12296895567675270115"
     },
     "user_tz": -180
    },
    "id": "2YeR_LV7gVGE"
   },
   "outputs": [],
   "source": [
    "from sklearn.preprocessing import StandardScaler\n",
    "\n",
    "scaler = StandardScaler()"
   ]
  },
  {
   "cell_type": "code",
   "execution_count": 28,
   "id": "n3CHlHwBhIgF",
   "metadata": {
    "executionInfo": {
     "elapsed": 1,
     "status": "ok",
     "timestamp": 1669634987933,
     "user": {
      "displayName": "Артем Савочкин",
      "userId": "12296895567675270115"
     },
     "user_tz": -180
    },
    "id": "n3CHlHwBhIgF"
   },
   "outputs": [],
   "source": [
    "X_train_scaled = scaler.fit_transform(X_train)\n",
    "X_train_scaled = pd.DataFrame(X_train_scaled, columns=feature_names)\n",
    "\n",
    "X_test_scaled = scaler.fit_transform(X_test)\n",
    "X_test_scaled = pd.DataFrame(X_test_scaled, columns=feature_names)"
   ]
  },
  {
   "cell_type": "code",
   "execution_count": 29,
   "id": "u9jxzf5kid89",
   "metadata": {
    "colab": {
     "base_uri": "https://localhost:8080/",
     "height": 295
    },
    "executionInfo": {
     "elapsed": 874,
     "status": "ok",
     "timestamp": 1669634989450,
     "user": {
      "displayName": "Артем Савочкин",
      "userId": "12296895567675270115"
     },
     "user_tz": -180
    },
    "id": "u9jxzf5kid89",
    "outputId": "6a1d9e81-ad68-4df4-c3d1-c49d7365a2f1"
   },
   "outputs": [
    {
     "data": {
      "image/png": "[encoded data removed]",
      "text/plain": [
       "<Figure size 432x288 with 1 Axes>"
      ]
     },
     "metadata": {
      "needs_background": "light"
     },
     "output_type": "display_data"
    }
   ],
   "source": [
    "lr.fit(X_train_scaled, y_train)\n",
    "\n",
    "plt.barh(feature_names, lr.coef_.flatten())\n",
    "\n",
    "plt.xlabel(\"Вес признака\")\n",
    "plt.ylabel(\"Признак\")\n",
    "\n",
    "plt.show()"
   ]
  },
  {
   "cell_type": "code",
   "execution_count": 30,
   "id": "zTK30EDYihJb",
   "metadata": {
    "colab": {
     "base_uri": "https://localhost:8080/"
    },
    "executionInfo": {
     "elapsed": 5,
     "status": "ok",
     "timestamp": 1669634989728,
     "user": {
      "displayName": "Артем Савочкин",
      "userId": "12296895567675270115"
     },
     "user_tz": -180
    },
    "id": "zTK30EDYihJb",
    "outputId": "fcf75901-3701-4d7a-910d-67e9d6fbbb2c"
   },
   "outputs": [
    {
     "data": {
      "text/plain": [
       "LinearRegression()"
      ]
     },
     "execution_count": 30,
     "metadata": {},
     "output_type": "execute_result"
    }
   ],
   "source": [
    "lr = LinearRegression()\n",
    "lr.fit(\n",
    "    X_train_scaled,\n",
    "    y_train\n",
    ")"
   ]
  },
  {
   "cell_type": "markdown",
   "id": "MjEHNTfhcImC",
   "metadata": {
    "id": "MjEHNTfhcImC"
   },
   "source": [
    "Посчитаем значения r2 метрики на обучающей и тестовой выборках"
   ]
  },
  {
   "cell_type": "code",
   "execution_count": 31,
   "id": "_PWScID-WmNa",
   "metadata": {
    "colab": {
     "base_uri": "https://localhost:8080/"
    },
    "executionInfo": {
     "elapsed": 4,
     "status": "ok",
     "timestamp": 1669634990451,
     "user": {
      "displayName": "Артем Савочкин",
      "userId": "12296895567675270115"
     },
     "user_tz": -180
    },
    "id": "_PWScID-WmNa",
    "outputId": "fc6b3fa9-be5b-4700-e808-0fd0268be94f"
   },
   "outputs": [
    {
     "data": {
      "text/plain": [
       "0.4866838657930923"
      ]
     },
     "execution_count": 31,
     "metadata": {},
     "output_type": "execute_result"
    }
   ],
   "source": [
    "r2_train = calc_metric(lr, X_train_scaled, y_train, r2_score)\n",
    "r2_train"
   ]
  },
  {
   "cell_type": "code",
   "execution_count": 32,
   "id": "uIQzmycDoVeu",
   "metadata": {
    "colab": {
     "base_uri": "https://localhost:8080/"
    },
    "executionInfo": {
     "elapsed": 10,
     "status": "ok",
     "timestamp": 1669634990823,
     "user": {
      "displayName": "Артем Савочкин",
      "userId": "12296895567675270115"
     },
     "user_tz": -180
    },
    "id": "uIQzmycDoVeu",
    "outputId": "df0a9000-ad29-4df6-ec10-d54afd34724a"
   },
   "outputs": [
    {
     "data": {
      "text/plain": [
       "0.4842028138236697"
      ]
     },
     "execution_count": 32,
     "metadata": {},
     "output_type": "execute_result"
    }
   ],
   "source": [
    "r2_test_lr_sc = calc_metric(lr, X_test_scaled, y_test, r2_score)\n",
    "r2_test_lr_sc"
   ]
  },
  {
   "cell_type": "markdown",
   "id": "Atly_sBjcy4E",
   "metadata": {
    "id": "Atly_sBjcy4E"
   },
   "source": [
    "# SVM"
   ]
  },
  {
   "cell_type": "markdown",
   "id": "FyxgMO8sZYcX",
   "metadata": {
    "id": "FyxgMO8sZYcX"
   },
   "source": [
    "Обучим модель Support Vector Regressor из модуля sklearn.svm"
   ]
  },
  {
   "cell_type": "code",
   "execution_count": 33,
   "id": "aJ0QMTedogDG",
   "metadata": {
    "executionInfo": {
     "elapsed": 3,
     "status": "ok",
     "timestamp": 1669634992398,
     "user": {
      "displayName": "Артем Савочкин",
      "userId": "12296895567675270115"
     },
     "user_tz": -180
    },
    "id": "aJ0QMTedogDG"
   },
   "outputs": [],
   "source": [
    "from sklearn.svm import SVR"
   ]
  },
  {
   "cell_type": "code",
   "execution_count": 34,
   "id": "1D1wyEvxRvTH",
   "metadata": {
    "executionInfo": {
     "elapsed": 4,
     "status": "ok",
     "timestamp": 1669634993719,
     "user": {
      "displayName": "Артем Савочкин",
      "userId": "12296895567675270115"
     },
     "user_tz": -180
    },
    "id": "1D1wyEvxRvTH"
   },
   "outputs": [],
   "source": [
    "svr = SVR()"
   ]
  },
  {
   "cell_type": "code",
   "execution_count": 35,
   "id": "V2DcA9pyLkdK",
   "metadata": {
    "colab": {
     "base_uri": "https://localhost:8080/"
    },
    "executionInfo": {
     "elapsed": 4678,
     "status": "ok",
     "timestamp": 1669634998645,
     "user": {
      "displayName": "Артем Савочкин",
      "userId": "12296895567675270115"
     },
     "user_tz": -180
    },
    "id": "V2DcA9pyLkdK",
    "outputId": "1298e682-a256-47cb-bc5e-348e54bc7c14"
   },
   "outputs": [
    {
     "data": {
      "text/plain": [
       "SVR()"
      ]
     },
     "execution_count": 35,
     "metadata": {},
     "output_type": "execute_result"
    }
   ],
   "source": [
    "svr.fit(X_train_scaled, y_train)"
   ]
  },
  {
   "cell_type": "markdown",
   "id": "OCeq0CY3bn1X",
   "metadata": {
    "id": "OCeq0CY3bn1X"
   },
   "source": [
    "Посчитаем метрику r2"
   ]
  },
  {
   "cell_type": "code",
   "execution_count": 36,
   "id": "AWVtJyf7j07p",
   "metadata": {
    "colab": {
     "base_uri": "https://localhost:8080/"
    },
    "executionInfo": {
     "elapsed": 5074,
     "status": "ok",
     "timestamp": 1669635003717,
     "user": {
      "displayName": "Артем Савочкин",
      "userId": "12296895567675270115"
     },
     "user_tz": -180
    },
    "id": "AWVtJyf7j07p",
    "outputId": "b97611c3-bb4a-4f40-d40f-fbd5b0077511"
   },
   "outputs": [
    {
     "data": {
      "text/plain": [
       "-0.05079068274142551"
      ]
     },
     "execution_count": 36,
     "metadata": {},
     "output_type": "execute_result"
    }
   ],
   "source": [
    "r2_train = calc_metric(svr, X_train_scaled, y_train, r2_score)\n",
    "r2_train"
   ]
  },
  {
   "cell_type": "code",
   "execution_count": 37,
   "id": "JskiofJULzNb",
   "metadata": {
    "colab": {
     "base_uri": "https://localhost:8080/"
    },
    "executionInfo": {
     "elapsed": 2005,
     "status": "ok",
     "timestamp": 1669635005718,
     "user": {
      "displayName": "Артем Савочкин",
      "userId": "12296895567675270115"
     },
     "user_tz": -180
    },
    "id": "JskiofJULzNb",
    "outputId": "d402ed35-08d6-4451-9310-43e568c4ee4f"
   },
   "outputs": [
    {
     "data": {
      "text/plain": [
       "-0.06702435941760543"
      ]
     },
     "execution_count": 37,
     "metadata": {},
     "output_type": "execute_result"
    }
   ],
   "source": [
    "r2_test_svr = calc_metric(svr, X_test_scaled, y_test, r2_score)\n",
    "r2_test_svr"
   ]
  },
  {
   "cell_type": "markdown",
   "id": "UbirKrsQc_Au",
   "metadata": {
    "id": "UbirKrsQc_Au"
   },
   "source": [
    "Получилось как-то \"не очень\". Попробуем что-то поменять, например, параметр C"
   ]
  },
  {
   "cell_type": "code",
   "execution_count": 38,
   "id": "T5v709Hx33VU",
   "metadata": {
    "executionInfo": {
     "elapsed": 5,
     "status": "ok",
     "timestamp": 1669635005719,
     "user": {
      "displayName": "Артем Савочкин",
      "userId": "12296895567675270115"
     },
     "user_tz": -180
    },
    "id": "T5v709Hx33VU"
   },
   "outputs": [],
   "source": [
    "def c_log_cycle(Model):\n",
    "  c_values = np.logspace(-1, 6, 36)\n",
    "  r2_on_valid = []\n",
    "  r2_on_train = []\n",
    "\n",
    "  for i, value in enumerate(c_values):\n",
    "      svr = Model(C=value)\n",
    "      \n",
    "      svr.fit(X_train_scaled, y_train)\n",
    "    \n",
    "      r2_valid = calc_metric(svr, X_test_scaled, y_test, r2_score)\n",
    "      r2_train = calc_metric(svr, X_train_scaled, y_train, r2_score)\n",
    "      r2_on_valid.append(r2_valid)\n",
    "      r2_on_train.append(r2_train)\n",
    "      if i % 5 == 0:\n",
    "          print('C = {}'.format(value))\n",
    "          print('\\tr2_valid = {}'.format(r2_valid))\n",
    "          print('\\tr2_train = {}\\n'.format(r2_train))\n",
    "  return c_values, r2_on_valid, r2_on_train"
   ]
  },
  {
   "cell_type": "code",
   "execution_count": 39,
   "id": "moJwifDXj80C",
   "metadata": {
    "colab": {
     "base_uri": "https://localhost:8080/"
    },
    "executionInfo": {
     "elapsed": 463685,
     "status": "ok",
     "timestamp": 1669635469399,
     "user": {
      "displayName": "Артем Савочкин",
      "userId": "12296895567675270115"
     },
     "user_tz": -180
    },
    "id": "moJwifDXj80C",
    "outputId": "b7c4e993-058c-4439-c916-98b142462a96"
   },
   "outputs": [
    {
     "name": "stdout",
     "output_type": "stream",
     "text": [
      "C = 0.1\n",
      "\tr2_valid = -0.07003812888225047\n",
      "\tr2_train = -0.05451054003621936\n",
      "\n",
      "C = 1.0\n",
      "\tr2_valid = -0.06702435941760543\n",
      "\tr2_train = -0.05079068274142551\n",
      "\n",
      "C = 10.0\n",
      "\tr2_valid = -0.032702003121649836\n",
      "\tr2_train = -0.010418551596023562\n",
      "\n",
      "C = 100.0\n",
      "\tr2_valid = 0.18449045843830292\n",
      "\tr2_train = 0.23403521216893797\n",
      "\n",
      "C = 1000.0\n",
      "\tr2_valid = 0.46278464362872984\n",
      "\tr2_train = 0.5100288089623044\n",
      "\n",
      "C = 10000.0\n",
      "\tr2_valid = 0.6154905635331787\n",
      "\tr2_train = 0.6451329943400121\n",
      "\n",
      "C = 100000.0\n",
      "\tr2_valid = 0.6717236499325266\n",
      "\tr2_train = 0.718958009250157\n",
      "\n",
      "C = 1000000.0\n",
      "\tr2_valid = 0.6080095674219383\n",
      "\tr2_train = 0.7839916140342399\n",
      "\n"
     ]
    }
   ],
   "source": [
    "c_values, r2_on_valid, r2_on_train = c_log_cycle(SVR)"
   ]
  },
  {
   "cell_type": "code",
   "execution_count": 40,
   "id": "SpB4qenypOYt",
   "metadata": {
    "colab": {
     "base_uri": "https://localhost:8080/",
     "height": 295
    },
    "executionInfo": {
     "elapsed": 33,
     "status": "ok",
     "timestamp": 1669635469400,
     "user": {
      "displayName": "Артем Савочкин",
      "userId": "12296895567675270115"
     },
     "user_tz": -180
    },
    "id": "SpB4qenypOYt",
    "outputId": "3f118569-4fa5-443b-8265-19c796e12e1e"
   },
   "outputs": [
    {
     "data": {
      "image/png": "[encoded data removed]",
      "text/plain": [
       "<Figure size 432x288 with 1 Axes>"
      ]
     },
     "metadata": {
      "needs_background": "light"
     },
     "output_type": "display_data"
    }
   ],
   "source": [
    "plt.plot(c_values, r2_on_valid, label=\"valid\")\n",
    "plt.plot(c_values, r2_on_train, label=\"train\")\n",
    "\n",
    "plt.xlabel('Значение параметра C')\n",
    "plt.ylabel('R2 score')\n",
    "\n",
    "plt.legend()\n",
    "plt.grid()\n",
    "\n",
    "plt.show()"
   ]
  },
  {
   "cell_type": "code",
   "execution_count": 49,
   "id": "A1WQjq_a8ORB",
   "metadata": {
    "colab": {
     "base_uri": "https://localhost:8080/"
    },
    "executionInfo": {
     "elapsed": 12,
     "status": "ok",
     "timestamp": 1669635469400,
     "user": {
      "displayName": "Артем Савочкин",
      "userId": "12296895567675270115"
     },
     "user_tz": -180
    },
    "id": "A1WQjq_a8ORB",
    "outputId": "8b84f79a-7d34-4652-c857-8b98e404b60c"
   },
   "outputs": [
    {
     "data": {
      "text/plain": [
       "0.6732343679504206"
      ]
     },
     "execution_count": 49,
     "metadata": {},
     "output_type": "execute_result"
    }
   ],
   "source": [
    "r2_test_svr = max(r2_on_valid)\n",
    "r2_test_svr"
   ]
  },
  {
   "cell_type": "markdown",
   "id": "5uU5qbGZ7A8_",
   "metadata": {
    "id": "5uU5qbGZ7A8_"
   },
   "source": [
    "Видим, что оптимальное значение параметра С равно 100000"
   ]
  },
  {
   "cell_type": "markdown",
   "id": "r4qljh9u7VGE",
   "metadata": {
    "id": "r4qljh9u7VGE"
   },
   "source": [
    "# NuSVR"
   ]
  },
  {
   "cell_type": "markdown",
   "id": "cfNMBzX94nJT",
   "metadata": {
    "id": "cfNMBzX94nJT"
   },
   "source": [
    "Создадим модель NuSVR и проводём с ней аналогичные действия"
   ]
  },
  {
   "cell_type": "code",
   "execution_count": 42,
   "id": "RUuSlSw9MBSz",
   "metadata": {
    "executionInfo": {
     "elapsed": 10,
     "status": "ok",
     "timestamp": 1669635469401,
     "user": {
      "displayName": "Артем Савочкин",
      "userId": "12296895567675270115"
     },
     "user_tz": -180
    },
    "id": "RUuSlSw9MBSz"
   },
   "outputs": [],
   "source": [
    "from sklearn.svm import NuSVR \n",
    "import numpy as np"
   ]
  },
  {
   "cell_type": "code",
   "execution_count": 43,
   "id": "q051r44sj9it",
   "metadata": {
    "executionInfo": {
     "elapsed": 10,
     "status": "ok",
     "timestamp": 1669635469401,
     "user": {
      "displayName": "Артем Савочкин",
      "userId": "12296895567675270115"
     },
     "user_tz": -180
    },
    "id": "q051r44sj9it"
   },
   "outputs": [],
   "source": [
    "nusvr = NuSVR()"
   ]
  },
  {
   "cell_type": "code",
   "execution_count": 44,
   "id": "Zok_fLRMlGsz",
   "metadata": {
    "colab": {
     "base_uri": "https://localhost:8080/"
    },
    "executionInfo": {
     "elapsed": 3154,
     "status": "ok",
     "timestamp": 1669635472545,
     "user": {
      "displayName": "Артем Савочкин",
      "userId": "12296895567675270115"
     },
     "user_tz": -180
    },
    "id": "Zok_fLRMlGsz",
    "outputId": "02ab7ce4-9737-4d2c-9821-d87ca5131c06"
   },
   "outputs": [
    {
     "data": {
      "text/plain": [
       "NuSVR()"
      ]
     },
     "execution_count": 44,
     "metadata": {},
     "output_type": "execute_result"
    }
   ],
   "source": [
    "nusvr.fit(X_train_scaled, y_train)"
   ]
  },
  {
   "cell_type": "code",
   "execution_count": 45,
   "id": "c_jUmPvWlN9x",
   "metadata": {
    "colab": {
     "base_uri": "https://localhost:8080/"
    },
    "executionInfo": {
     "elapsed": 1214,
     "status": "ok",
     "timestamp": 1669635473757,
     "user": {
      "displayName": "Артем Савочкин",
      "userId": "12296895567675270115"
     },
     "user_tz": -180
    },
    "id": "c_jUmPvWlN9x",
    "outputId": "b9f3681c-d8a5-416e-ec81-6c5492f7fb46"
   },
   "outputs": [
    {
     "data": {
      "text/plain": [
       "-0.06702435941760543"
      ]
     },
     "execution_count": 45,
     "metadata": {},
     "output_type": "execute_result"
    }
   ],
   "source": [
    "r2_test_nusvr = calc_metric(svr, X_test_scaled, y_test, r2_score)\n",
    "r2_test_nusvr"
   ]
  },
  {
   "cell_type": "code",
   "execution_count": 46,
   "id": "5pAR1Eqd9r_C",
   "metadata": {
    "colab": {
     "base_uri": "https://localhost:8080/"
    },
    "executionInfo": {
     "elapsed": 286149,
     "status": "ok",
     "timestamp": 1669635759901,
     "user": {
      "displayName": "Артем Савочкин",
      "userId": "12296895567675270115"
     },
     "user_tz": -180
    },
    "id": "5pAR1Eqd9r_C",
    "outputId": "88fae2fa-e68c-4284-fccb-90ac98a49b9e"
   },
   "outputs": [
    {
     "name": "stdout",
     "output_type": "stream",
     "text": [
      "C = 0.1\n",
      "\tr2_valid = -0.02959009196614537\n",
      "\tr2_train = -0.018822945604033636\n",
      "\n",
      "C = 1.0\n",
      "\tr2_valid = -0.026926336126478434\n",
      "\tr2_train = -0.015627109844172038\n",
      "\n",
      "C = 10.0\n",
      "\tr2_valid = -0.00034707436423042637\n",
      "\tr2_train = 0.015797810457360728\n",
      "\n",
      "C = 100.0\n",
      "\tr2_valid = 0.17975728383802414\n",
      "\tr2_train = 0.22272800488045708\n",
      "\n",
      "C = 1000.0\n",
      "\tr2_valid = 0.4622818466002283\n",
      "\tr2_train = 0.5084695449885618\n",
      "\n",
      "C = 10000.0\n",
      "\tr2_valid = 0.6146653002716199\n",
      "\tr2_train = 0.6443256195365586\n",
      "\n",
      "C = 100000.0\n",
      "\tr2_valid = 0.6732343679504206\n",
      "\tr2_train = 0.7198779249084757\n",
      "\n",
      "C = 1000000.0\n",
      "\tr2_valid = 0.6266754292208364\n",
      "\tr2_train = 0.7858708274716781\n",
      "\n"
     ]
    }
   ],
   "source": [
    "c_values, r2_on_valid, r2_on_train = c_log_cycle(NuSVR)"
   ]
  },
  {
   "cell_type": "code",
   "execution_count": 47,
   "id": "aIc-shZZ9yEJ",
   "metadata": {
    "colab": {
     "base_uri": "https://localhost:8080/",
     "height": 295
    },
    "executionInfo": {
     "elapsed": 32,
     "status": "ok",
     "timestamp": 1669635759902,
     "user": {
      "displayName": "Артем Савочкин",
      "userId": "12296895567675270115"
     },
     "user_tz": -180
    },
    "id": "aIc-shZZ9yEJ",
    "outputId": "d37e7eb0-1431-4ccc-c049-f54ad2b57c05"
   },
   "outputs": [
    {
     "data": {
      "image/png": "[encoded data removed]",
      "text/plain": [
       "<Figure size 432x288 with 1 Axes>"
      ]
     },
     "metadata": {
      "needs_background": "light"
     },
     "output_type": "display_data"
    }
   ],
   "source": [
    "plt.plot(c_values, r2_on_valid, label=\"valid\")\n",
    "plt.plot(c_values, r2_on_train, label=\"train\")\n",
    "\n",
    "plt.xlabel('Значение параметра C')\n",
    "plt.ylabel('R2 score')\n",
    "\n",
    "plt.legend()\n",
    "plt.grid()\n",
    "\n",
    "plt.show()"
   ]
  },
  {
   "cell_type": "code",
   "execution_count": 48,
   "id": "Zp3oWzou93ix",
   "metadata": {
    "colab": {
     "base_uri": "https://localhost:8080/"
    },
    "executionInfo": {
     "elapsed": 9,
     "status": "ok",
     "timestamp": 1669635759902,
     "user": {
      "displayName": "Артем Савочкин",
      "userId": "12296895567675270115"
     },
     "user_tz": -180
    },
    "id": "Zp3oWzou93ix",
    "outputId": "b0d5dc90-0318-48ee-f977-c456c2057c69"
   },
   "outputs": [
    {
     "data": {
      "text/plain": [
       "0.6732343679504206"
      ]
     },
     "execution_count": 48,
     "metadata": {},
     "output_type": "execute_result"
    }
   ],
   "source": [
    "r2_test_nusvr = max(r2_on_valid)\n",
    "r2_test_nusvr"
   ]
  },
  {
   "cell_type": "markdown",
   "id": "_lIaCe21oo41",
   "metadata": {
    "id": "_lIaCe21oo41"
   },
   "source": [
    "# GradientBoosting"
   ]
  },
  {
   "cell_type": "code",
   "execution_count": 108,
   "id": "eGV2cVgpOWP6",
   "metadata": {
    "executionInfo": {
     "elapsed": 5,
     "status": "ok",
     "timestamp": 1669635766637,
     "user": {
      "displayName": "Артем Савочкин",
      "userId": "12296895567675270115"
     },
     "user_tz": -180
    },
    "id": "eGV2cVgpOWP6"
   },
   "outputs": [],
   "source": [
    "from sklearn.ensemble import HistGradientBoostingRegressor"
   ]
  },
  {
   "cell_type": "code",
   "execution_count": 109,
   "id": "tSDzxJBdkG9f",
   "metadata": {
    "colab": {
     "base_uri": "https://localhost:8080/"
    },
    "executionInfo": {
     "elapsed": 257,
     "status": "ok",
     "timestamp": 1669635766890,
     "user": {
      "displayName": "Артем Савочкин",
      "userId": "12296895567675270115"
     },
     "user_tz": -180
    },
    "id": "tSDzxJBdkG9f",
    "outputId": "e29a8e38-21a6-42e0-c54b-9cd7fc850e32"
   },
   "outputs": [
    {
     "data": {
      "text/plain": [
       "HistGradientBoostingRegressor()"
      ]
     },
     "execution_count": 109,
     "metadata": {},
     "output_type": "execute_result"
    }
   ],
   "source": [
    "gb = HistGradientBoostingRegressor()\n",
    "gb.fit(X_train, y_train)"
   ]
  },
  {
   "cell_type": "code",
   "execution_count": 110,
   "id": "4uH9o8wmlfIg",
   "metadata": {
    "colab": {
     "base_uri": "https://localhost:8080/"
    },
    "executionInfo": {
     "elapsed": 14,
     "status": "ok",
     "timestamp": 1669635766891,
     "user": {
      "displayName": "Артем Савочкин",
      "userId": "12296895567675270115"
     },
     "user_tz": -180
    },
    "id": "4uH9o8wmlfIg",
    "outputId": "2fae54b0-3e34-4200-bc5b-d819e0a5391c"
   },
   "outputs": [
    {
     "data": {
      "text/plain": [
       "0.7556486576438068"
      ]
     },
     "execution_count": 110,
     "metadata": {},
     "output_type": "execute_result"
    }
   ],
   "source": [
    "r2_test_gb = calc_metric(gb, X_test, y_test, r2_score)\n",
    "r2_test_gb"
   ]
  },
  {
   "cell_type": "markdown",
   "id": "YP8hpzqPD6-M",
   "metadata": {
    "id": "YP8hpzqPD6-M"
   },
   "source": [
    "Составим сравнительную таблицу моделей"
   ]
  },
  {
   "cell_type": "code",
   "execution_count": 125,
   "id": "bS0rcjrlEBIA",
   "metadata": {
    "colab": {
     "base_uri": "https://localhost:8080/",
     "height": 269
    },
    "executionInfo": {
     "elapsed": 724,
     "status": "ok",
     "timestamp": 1669635886655,
     "user": {
      "displayName": "Артем Савочкин",
      "userId": "12296895567675270115"
     },
     "user_tz": -180
    },
    "id": "bS0rcjrlEBIA",
    "outputId": "b38f5ab1-91d0-4ccf-fce0-08a8dc812651"
   },
   "outputs": [
    {
     "data": {
      "text/html": [
       "\n",
       "  <div id=\"df-ab3f1bfa-7569-46be-aa48-ca1de7b2000b\">\n",
       "    <div class=\"colab-df-container\">\n",
       "      <div>\n",
       "<style scoped>\n",
       "    .dataframe tbody tr th:only-of-type {\n",
       "        vertical-align: middle;\n",
       "    }\n",
       "\n",
       "    .dataframe tbody tr th {\n",
       "        vertical-align: top;\n",
       "    }\n",
       "\n",
       "    .dataframe thead th {\n",
       "        text-align: right;\n",
       "    }\n",
       "</style>\n",
       "<table border=\"1\" class=\"dataframe\">\n",
       "  <thead>\n",
       "    <tr style=\"text-align: right;\">\n",
       "      <th></th>\n",
       "      <th>Model</th>\n",
       "      <th>R2_score</th>\n",
       "    </tr>\n",
       "  </thead>\n",
       "  <tbody>\n",
       "    <tr>\n",
       "      <th>0</th>\n",
       "      <td>LR</td>\n",
       "      <td>0.458020</td>\n",
       "    </tr>\n",
       "    <tr>\n",
       "      <th>1</th>\n",
       "      <td>LR with scale data</td>\n",
       "      <td>0.484200</td>\n",
       "    </tr>\n",
       "    <tr>\n",
       "      <th>2</th>\n",
       "      <td>SVR c=1</td>\n",
       "      <td>-0.067000</td>\n",
       "    </tr>\n",
       "    <tr>\n",
       "      <th>3</th>\n",
       "      <td>SVR c=100000</td>\n",
       "      <td>0.671720</td>\n",
       "    </tr>\n",
       "    <tr>\n",
       "      <th>4</th>\n",
       "      <td>NuSVR c=1</td>\n",
       "      <td>0.000000</td>\n",
       "    </tr>\n",
       "    <tr>\n",
       "      <th>5</th>\n",
       "      <td>NuSVR c=100000</td>\n",
       "      <td>0.673230</td>\n",
       "    </tr>\n",
       "    <tr>\n",
       "      <th>6</th>\n",
       "      <td>GradientBoosting</td>\n",
       "      <td>0.755648</td>\n",
       "    </tr>\n",
       "  </tbody>\n",
       "</table>\n",
       "</div>\n",
       "      <button class=\"colab-df-convert\" onclick=\"convertToInteractive('df-ab3f1bfa-7569-46be-aa48-ca1de7b2000b')\"\n",
       "              title=\"Convert this dataframe to an interactive table.\"\n",
       "              style=\"display:none;\">\n",
       "        \n",
       "  <svg xmlns=\"http://www.w3.org/2000/svg\" height=\"24px\"viewBox=\"0 0 24 24\"\n",
       "       width=\"24px\">\n",
       "    <path d=\"M0 0h24v24H0V0z\" fill=\"none\"/>\n",
       "    <path d=\"M18.56 5.44l.94 2.06.94-2.06 2.06-.94-2.06-.94-.94-2.06-.94 2.06-2.06.94zm-11 1L8.5 8.5l.94-2.06 2.06-.94-2.06-.94L8.5 2.5l-.94 2.06-2.06.94zm10 10l.94 2.06.94-2.06 2.06-.94-2.06-.94-.94-2.06-.94 2.06-2.06.94z\"/><path d=\"M17.41 7.96l-1.37-1.37c-.4-.4-.92-.59-1.43-.59-.52 0-1.04.2-1.43.59L10.3 9.45l-7.72 7.72c-.78.78-.78 2.05 0 2.83L4 21.41c.39.39.9.59 1.41.59.51 0 1.02-.2 1.41-.59l7.78-7.78 2.81-2.81c.8-.78.8-2.07 0-2.86zM5.41 20L4 18.59l7.72-7.72 1.47 1.35L5.41 20z\"/>\n",
       "  </svg>\n",
       "      </button>\n",
       "      \n",
       "  <style>\n",
       "    .colab-df-container {\n",
       "      display:flex;\n",
       "      flex-wrap:wrap;\n",
       "      gap: 12px;\n",
       "    }\n",
       "\n",
       "    .colab-df-convert {\n",
       "      background-color: #E8F0FE;\n",
       "      border: none;\n",
       "      border-radius: 50%;\n",
       "      cursor: pointer;\n",
       "      display: none;\n",
       "      fill: #1967D2;\n",
       "      height: 32px;\n",
       "      padding: 0 0 0 0;\n",
       "      width: 32px;\n",
       "    }\n",
       "\n",
       "    .colab-df-convert:hover {\n",
       "      background-color: #E2EBFA;\n",
       "      box-shadow: 0px 1px 2px rgba(60, 64, 67, 0.3), 0px 1px 3px 1px rgba(60, 64, 67, 0.15);\n",
       "      fill: #174EA6;\n",
       "    }\n",
       "\n",
       "    [theme=dark] .colab-df-convert {\n",
       "      background-color: #3B4455;\n",
       "      fill: #D2E3FC;\n",
       "    }\n",
       "\n",
       "    [theme=dark] .colab-df-convert:hover {\n",
       "      background-color: #434B5C;\n",
       "      box-shadow: 0px 1px 3px 1px rgba(0, 0, 0, 0.15);\n",
       "      filter: drop-shadow(0px 1px 2px rgba(0, 0, 0, 0.3));\n",
       "      fill: #FFFFFF;\n",
       "    }\n",
       "  </style>\n",
       "\n",
       "      <script>\n",
       "        const buttonEl =\n",
       "          document.querySelector('#df-ab3f1bfa-7569-46be-aa48-ca1de7b2000b button.colab-df-convert');\n",
       "        buttonEl.style.display =\n",
       "          google.colab.kernel.accessAllowed ? 'block' : 'none';\n",
       "\n",
       "        async function convertToInteractive(key) {\n",
       "          const element = document.querySelector('#df-ab3f1bfa-7569-46be-aa48-ca1de7b2000b');\n",
       "          const dataTable =\n",
       "            await google.colab.kernel.invokeFunction('convertToInteractive',\n",
       "                                                     [key], {});\n",
       "          if (!dataTable) return;\n",
       "\n",
       "          const docLinkHtml = 'Like what you see? Visit the ' +\n",
       "            '<a target=\"_blank\" href=https://colab.research.google.com/notebooks/data_table.ipynb>data table notebook</a>'\n",
       "            + ' to learn more about interactive tables.';\n",
       "          element.innerHTML = '';\n",
       "          dataTable['output_type'] = 'display_data';\n",
       "          await google.colab.output.renderOutput(dataTable, element);\n",
       "          const docLink = document.createElement('div');\n",
       "          docLink.innerHTML = docLinkHtml;\n",
       "          element.appendChild(docLink);\n",
       "        }\n",
       "      </script>\n",
       "    </div>\n",
       "  </div>\n",
       "  "
      ],
      "text/plain": [
       "                Model  R2_score\n",
       "0                  LR  0.458020\n",
       "1  LR with scale data  0.484200\n",
       "2             SVR c=1 -0.067000\n",
       "3        SVR c=100000  0.671720\n",
       "4           NuSVR c=1  0.000000\n",
       "5      NuSVR c=100000  0.673230\n",
       "6    GradientBoosting  0.755648"
      ]
     },
     "execution_count": 125,
     "metadata": {},
     "output_type": "execute_result"
    }
   ],
   "source": [
    "models = [\"LR\", \"LR with scale data\", \"SVR c=1\", \"SVR c=100000\", \"NuSVR c=1\", \"NuSVR c=100000\", \"GradientBoosting\"]\n",
    "scores = [0.45802, 0.4842, -0.067, 0.67172, 0, 0.67323, 0.755648]\n",
    "models_tabel = pd.DataFrame({\"Model\":models, \"R2_score\":scores})\n",
    "models_tabel"
   ]
  },
  {
   "cell_type": "markdown",
   "id": "YfvSjhlzCAMH",
   "metadata": {
    "id": "YfvSjhlzCAMH"
   },
   "source": [
    "# Препроцессинг тестовых данных"
   ]
  },
  {
   "cell_type": "markdown",
   "id": "Jzg6l-eBCI_I",
   "metadata": {
    "id": "Jzg6l-eBCI_I"
   },
   "source": [
    "Считаем данные из файла и выведем основную информацию"
   ]
  },
  {
   "cell_type": "code",
   "execution_count": 126,
   "id": "pROQ095i-geu",
   "metadata": {
    "executionInfo": {
     "elapsed": 3,
     "status": "ok",
     "timestamp": 1669635890953,
     "user": {
      "displayName": "Артем Савочкин",
      "userId": "12296895567675270115"
     },
     "user_tz": -180
    },
    "id": "pROQ095i-geu"
   },
   "outputs": [],
   "source": [
    "#test_data = pd.read_csv(\"/content/drive/My Drive/Регрессия/test.csv\")\n",
    "test_data = pd.read_csv(\"test.csv\")"
   ]
  },
  {
   "cell_type": "code",
   "execution_count": 127,
   "id": "UuwJKexnAEO3",
   "metadata": {
    "colab": {
     "base_uri": "https://localhost:8080/",
     "height": 270
    },
    "executionInfo": {
     "elapsed": 1235,
     "status": "ok",
     "timestamp": 1669635892800,
     "user": {
      "displayName": "Артем Савочкин",
      "userId": "12296895567675270115"
     },
     "user_tz": -180
    },
    "id": "UuwJKexnAEO3",
    "outputId": "4e0bcd84-c1d6-42d3-81ab-76196a066e8b"
   },
   "outputs": [
    {
     "data": {
      "text/html": [
       "\n",
       "  <div id=\"df-caad5b23-0358-4b6a-bebc-70fe8a29b27c\">\n",
       "    <div class=\"colab-df-container\">\n",
       "      <div>\n",
       "<style scoped>\n",
       "    .dataframe tbody tr th:only-of-type {\n",
       "        vertical-align: middle;\n",
       "    }\n",
       "\n",
       "    .dataframe tbody tr th {\n",
       "        vertical-align: top;\n",
       "    }\n",
       "\n",
       "    .dataframe thead th {\n",
       "        text-align: right;\n",
       "    }\n",
       "</style>\n",
       "<table border=\"1\" class=\"dataframe\">\n",
       "  <thead>\n",
       "    <tr style=\"text-align: right;\">\n",
       "      <th></th>\n",
       "      <th>Id</th>\n",
       "      <th>DistrictId</th>\n",
       "      <th>Rooms</th>\n",
       "      <th>Square</th>\n",
       "      <th>LifeSquare</th>\n",
       "      <th>KitchenSquare</th>\n",
       "      <th>Floor</th>\n",
       "      <th>HouseFloor</th>\n",
       "      <th>HouseYear</th>\n",
       "      <th>Ecology_1</th>\n",
       "      <th>Ecology_2</th>\n",
       "      <th>Ecology_3</th>\n",
       "      <th>Social_1</th>\n",
       "      <th>Social_2</th>\n",
       "      <th>Social_3</th>\n",
       "      <th>Healthcare_1</th>\n",
       "      <th>Helthcare_2</th>\n",
       "      <th>Shops_1</th>\n",
       "      <th>Shops_2</th>\n",
       "    </tr>\n",
       "  </thead>\n",
       "  <tbody>\n",
       "    <tr>\n",
       "      <th>0</th>\n",
       "      <td>4567</td>\n",
       "      <td>44</td>\n",
       "      <td>1.0</td>\n",
       "      <td>36.847630</td>\n",
       "      <td>19.094182</td>\n",
       "      <td>5.0</td>\n",
       "      <td>5</td>\n",
       "      <td>9.0</td>\n",
       "      <td>1970</td>\n",
       "      <td>0.036122</td>\n",
       "      <td>B</td>\n",
       "      <td>B</td>\n",
       "      <td>24</td>\n",
       "      <td>4378</td>\n",
       "      <td>0</td>\n",
       "      <td>1036.0</td>\n",
       "      <td>1</td>\n",
       "      <td>1</td>\n",
       "      <td>B</td>\n",
       "    </tr>\n",
       "    <tr>\n",
       "      <th>1</th>\n",
       "      <td>5925</td>\n",
       "      <td>62</td>\n",
       "      <td>1.0</td>\n",
       "      <td>42.493907</td>\n",
       "      <td>42.568133</td>\n",
       "      <td>10.0</td>\n",
       "      <td>7</td>\n",
       "      <td>17.0</td>\n",
       "      <td>2017</td>\n",
       "      <td>0.072158</td>\n",
       "      <td>B</td>\n",
       "      <td>B</td>\n",
       "      <td>2</td>\n",
       "      <td>629</td>\n",
       "      <td>1</td>\n",
       "      <td>NaN</td>\n",
       "      <td>0</td>\n",
       "      <td>0</td>\n",
       "      <td>A</td>\n",
       "    </tr>\n",
       "    <tr>\n",
       "      <th>2</th>\n",
       "      <td>960</td>\n",
       "      <td>27</td>\n",
       "      <td>2.0</td>\n",
       "      <td>59.463678</td>\n",
       "      <td>NaN</td>\n",
       "      <td>9.0</td>\n",
       "      <td>19</td>\n",
       "      <td>19.0</td>\n",
       "      <td>1977</td>\n",
       "      <td>0.211401</td>\n",
       "      <td>B</td>\n",
       "      <td>B</td>\n",
       "      <td>9</td>\n",
       "      <td>1892</td>\n",
       "      <td>0</td>\n",
       "      <td>NaN</td>\n",
       "      <td>0</td>\n",
       "      <td>1</td>\n",
       "      <td>B</td>\n",
       "    </tr>\n",
       "    <tr>\n",
       "      <th>3</th>\n",
       "      <td>3848</td>\n",
       "      <td>23</td>\n",
       "      <td>3.0</td>\n",
       "      <td>49.646030</td>\n",
       "      <td>33.893825</td>\n",
       "      <td>6.0</td>\n",
       "      <td>2</td>\n",
       "      <td>2.0</td>\n",
       "      <td>1965</td>\n",
       "      <td>0.014073</td>\n",
       "      <td>B</td>\n",
       "      <td>B</td>\n",
       "      <td>2</td>\n",
       "      <td>475</td>\n",
       "      <td>0</td>\n",
       "      <td>NaN</td>\n",
       "      <td>0</td>\n",
       "      <td>0</td>\n",
       "      <td>B</td>\n",
       "    </tr>\n",
       "    <tr>\n",
       "      <th>4</th>\n",
       "      <td>746</td>\n",
       "      <td>74</td>\n",
       "      <td>1.0</td>\n",
       "      <td>53.837056</td>\n",
       "      <td>NaN</td>\n",
       "      <td>1.0</td>\n",
       "      <td>8</td>\n",
       "      <td>17.0</td>\n",
       "      <td>1977</td>\n",
       "      <td>0.309479</td>\n",
       "      <td>B</td>\n",
       "      <td>B</td>\n",
       "      <td>35</td>\n",
       "      <td>7715</td>\n",
       "      <td>4</td>\n",
       "      <td>990.0</td>\n",
       "      <td>0</td>\n",
       "      <td>6</td>\n",
       "      <td>B</td>\n",
       "    </tr>\n",
       "  </tbody>\n",
       "</table>\n",
       "</div>\n",
       "      <button class=\"colab-df-convert\" onclick=\"convertToInteractive('df-caad5b23-0358-4b6a-bebc-70fe8a29b27c')\"\n",
       "              title=\"Convert this dataframe to an interactive table.\"\n",
       "              style=\"display:none;\">\n",
       "        \n",
       "  <svg xmlns=\"http://www.w3.org/2000/svg\" height=\"24px\"viewBox=\"0 0 24 24\"\n",
       "       width=\"24px\">\n",
       "    <path d=\"M0 0h24v24H0V0z\" fill=\"none\"/>\n",
       "    <path d=\"M18.56 5.44l.94 2.06.94-2.06 2.06-.94-2.06-.94-.94-2.06-.94 2.06-2.06.94zm-11 1L8.5 8.5l.94-2.06 2.06-.94-2.06-.94L8.5 2.5l-.94 2.06-2.06.94zm10 10l.94 2.06.94-2.06 2.06-.94-2.06-.94-.94-2.06-.94 2.06-2.06.94z\"/><path d=\"M17.41 7.96l-1.37-1.37c-.4-.4-.92-.59-1.43-.59-.52 0-1.04.2-1.43.59L10.3 9.45l-7.72 7.72c-.78.78-.78 2.05 0 2.83L4 21.41c.39.39.9.59 1.41.59.51 0 1.02-.2 1.41-.59l7.78-7.78 2.81-2.81c.8-.78.8-2.07 0-2.86zM5.41 20L4 18.59l7.72-7.72 1.47 1.35L5.41 20z\"/>\n",
       "  </svg>\n",
       "      </button>\n",
       "      \n",
       "  <style>\n",
       "    .colab-df-container {\n",
       "      display:flex;\n",
       "      flex-wrap:wrap;\n",
       "      gap: 12px;\n",
       "    }\n",
       "\n",
       "    .colab-df-convert {\n",
       "      background-color: #E8F0FE;\n",
       "      border: none;\n",
       "      border-radius: 50%;\n",
       "      cursor: pointer;\n",
       "      display: none;\n",
       "      fill: #1967D2;\n",
       "      height: 32px;\n",
       "      padding: 0 0 0 0;\n",
       "      width: 32px;\n",
       "    }\n",
       "\n",
       "    .colab-df-convert:hover {\n",
       "      background-color: #E2EBFA;\n",
       "      box-shadow: 0px 1px 2px rgba(60, 64, 67, 0.3), 0px 1px 3px 1px rgba(60, 64, 67, 0.15);\n",
       "      fill: #174EA6;\n",
       "    }\n",
       "\n",
       "    [theme=dark] .colab-df-convert {\n",
       "      background-color: #3B4455;\n",
       "      fill: #D2E3FC;\n",
       "    }\n",
       "\n",
       "    [theme=dark] .colab-df-convert:hover {\n",
       "      background-color: #434B5C;\n",
       "      box-shadow: 0px 1px 3px 1px rgba(0, 0, 0, 0.15);\n",
       "      filter: drop-shadow(0px 1px 2px rgba(0, 0, 0, 0.3));\n",
       "      fill: #FFFFFF;\n",
       "    }\n",
       "  </style>\n",
       "\n",
       "      <script>\n",
       "        const buttonEl =\n",
       "          document.querySelector('#df-caad5b23-0358-4b6a-bebc-70fe8a29b27c button.colab-df-convert');\n",
       "        buttonEl.style.display =\n",
       "          google.colab.kernel.accessAllowed ? 'block' : 'none';\n",
       "\n",
       "        async function convertToInteractive(key) {\n",
       "          const element = document.querySelector('#df-caad5b23-0358-4b6a-bebc-70fe8a29b27c');\n",
       "          const dataTable =\n",
       "            await google.colab.kernel.invokeFunction('convertToInteractive',\n",
       "                                                     [key], {});\n",
       "          if (!dataTable) return;\n",
       "\n",
       "          const docLinkHtml = 'Like what you see? Visit the ' +\n",
       "            '<a target=\"_blank\" href=https://colab.research.google.com/notebooks/data_table.ipynb>data table notebook</a>'\n",
       "            + ' to learn more about interactive tables.';\n",
       "          element.innerHTML = '';\n",
       "          dataTable['output_type'] = 'display_data';\n",
       "          await google.colab.output.renderOutput(dataTable, element);\n",
       "          const docLink = document.createElement('div');\n",
       "          docLink.innerHTML = docLinkHtml;\n",
       "          element.appendChild(docLink);\n",
       "        }\n",
       "      </script>\n",
       "    </div>\n",
       "  </div>\n",
       "  "
      ],
      "text/plain": [
       "     Id  DistrictId  Rooms     Square  LifeSquare  KitchenSquare  Floor  \\\n",
       "0  4567          44    1.0  36.847630   19.094182            5.0      5   \n",
       "1  5925          62    1.0  42.493907   42.568133           10.0      7   \n",
       "2   960          27    2.0  59.463678         NaN            9.0     19   \n",
       "3  3848          23    3.0  49.646030   33.893825            6.0      2   \n",
       "4   746          74    1.0  53.837056         NaN            1.0      8   \n",
       "\n",
       "   HouseFloor  HouseYear  Ecology_1 Ecology_2 Ecology_3  Social_1  Social_2  \\\n",
       "0         9.0       1970   0.036122         B         B        24      4378   \n",
       "1        17.0       2017   0.072158         B         B         2       629   \n",
       "2        19.0       1977   0.211401         B         B         9      1892   \n",
       "3         2.0       1965   0.014073         B         B         2       475   \n",
       "4        17.0       1977   0.309479         B         B        35      7715   \n",
       "\n",
       "   Social_3  Healthcare_1  Helthcare_2  Shops_1 Shops_2  \n",
       "0         0        1036.0            1        1       B  \n",
       "1         1           NaN            0        0       A  \n",
       "2         0           NaN            0        1       B  \n",
       "3         0           NaN            0        0       B  \n",
       "4         4         990.0            0        6       B  "
      ]
     },
     "execution_count": 127,
     "metadata": {},
     "output_type": "execute_result"
    }
   ],
   "source": [
    "test_data.head()"
   ]
  },
  {
   "cell_type": "code",
   "execution_count": 128,
   "id": "9oAdnUBCA0PT",
   "metadata": {
    "colab": {
     "base_uri": "https://localhost:8080/"
    },
    "executionInfo": {
     "elapsed": 347,
     "status": "ok",
     "timestamp": 1669635897715,
     "user": {
      "displayName": "Артем Савочкин",
      "userId": "12296895567675270115"
     },
     "user_tz": -180
    },
    "id": "9oAdnUBCA0PT",
    "outputId": "905dd70f-8e81-48e2-fc43-a3408469303e"
   },
   "outputs": [
    {
     "name": "stdout",
     "output_type": "stream",
     "text": [
      "<class 'pandas.core.frame.DataFrame'>\n",
      "RangeIndex: 5000 entries, 0 to 4999\n",
      "Data columns (total 19 columns):\n",
      " #   Column         Non-Null Count  Dtype  \n",
      "---  ------         --------------  -----  \n",
      " 0   Id             5000 non-null   int64  \n",
      " 1   DistrictId     5000 non-null   int64  \n",
      " 2   Rooms          5000 non-null   float64\n",
      " 3   Square         5000 non-null   float64\n",
      " 4   LifeSquare     3959 non-null   float64\n",
      " 5   KitchenSquare  5000 non-null   float64\n",
      " 6   Floor          5000 non-null   int64  \n",
      " 7   HouseFloor     5000 non-null   float64\n",
      " 8   HouseYear      5000 non-null   int64  \n",
      " 9   Ecology_1      5000 non-null   float64\n",
      " 10  Ecology_2      5000 non-null   object \n",
      " 11  Ecology_3      5000 non-null   object \n",
      " 12  Social_1       5000 non-null   int64  \n",
      " 13  Social_2       5000 non-null   int64  \n",
      " 14  Social_3       5000 non-null   int64  \n",
      " 15  Healthcare_1   2623 non-null   float64\n",
      " 16  Helthcare_2    5000 non-null   int64  \n",
      " 17  Shops_1        5000 non-null   int64  \n",
      " 18  Shops_2        5000 non-null   object \n",
      "dtypes: float64(7), int64(9), object(3)\n",
      "memory usage: 742.3+ KB\n"
     ]
    }
   ],
   "source": [
    "test_data.info()"
   ]
  },
  {
   "cell_type": "markdown",
   "id": "C7vUakFH1idO",
   "metadata": {
    "id": "C7vUakFH1idO"
   },
   "source": [
    "Удалим из базы данных столбец Id"
   ]
  },
  {
   "cell_type": "code",
   "execution_count": 129,
   "id": "6rAEnaSZ10rG",
   "metadata": {
    "executionInfo": {
     "elapsed": 3,
     "status": "ok",
     "timestamp": 1669635900582,
     "user": {
      "displayName": "Артем Савочкин",
      "userId": "12296895567675270115"
     },
     "user_tz": -180
    },
    "id": "6rAEnaSZ10rG"
   },
   "outputs": [],
   "source": [
    "id = test_data[\"Id\"]"
   ]
  },
  {
   "cell_type": "code",
   "execution_count": 130,
   "id": "xxKpXGmn2rXb",
   "metadata": {
    "colab": {
     "base_uri": "https://localhost:8080/"
    },
    "executionInfo": {
     "elapsed": 3,
     "status": "ok",
     "timestamp": 1669635902013,
     "user": {
      "displayName": "Артем Савочкин",
      "userId": "12296895567675270115"
     },
     "user_tz": -180
    },
    "id": "xxKpXGmn2rXb",
    "outputId": "d8044d51-4c73-475e-cccb-bb9170d3194f"
   },
   "outputs": [
    {
     "data": {
      "text/plain": [
       "0        4567\n",
       "1        5925\n",
       "2         960\n",
       "3        3848\n",
       "4         746\n",
       "        ...  \n",
       "4995    10379\n",
       "4996    16138\n",
       "4997     3912\n",
       "4998     5722\n",
       "4999    11004\n",
       "Name: Id, Length: 5000, dtype: int64"
      ]
     },
     "execution_count": 130,
     "metadata": {},
     "output_type": "execute_result"
    }
   ],
   "source": [
    "test_data.pop(\"Id\")"
   ]
  },
  {
   "cell_type": "markdown",
   "id": "suOugoeQ0jVi",
   "metadata": {
    "id": "suOugoeQ0jVi"
   },
   "source": [
    "Заполним пропуски и избавимся от категориальных переменных"
   ]
  },
  {
   "cell_type": "code",
   "execution_count": 131,
   "id": "EhKGto_GA_9p",
   "metadata": {
    "colab": {
     "base_uri": "https://localhost:8080/",
     "height": 364
    },
    "executionInfo": {
     "elapsed": 8,
     "status": "ok",
     "timestamp": 1669635904681,
     "user": {
      "displayName": "Артем Савочкин",
      "userId": "12296895567675270115"
     },
     "user_tz": -180
    },
    "id": "EhKGto_GA_9p",
    "outputId": "d666359b-fb0a-421a-f6f4-bb74fbf088d0"
   },
   "outputs": [
    {
     "data": {
      "text/html": [
       "\n",
       "  <div id=\"df-38de8c2d-7dc7-439c-a060-c4d9211da379\">\n",
       "    <div class=\"colab-df-container\">\n",
       "      <div>\n",
       "<style scoped>\n",
       "    .dataframe tbody tr th:only-of-type {\n",
       "        vertical-align: middle;\n",
       "    }\n",
       "\n",
       "    .dataframe tbody tr th {\n",
       "        vertical-align: top;\n",
       "    }\n",
       "\n",
       "    .dataframe thead th {\n",
       "        text-align: right;\n",
       "    }\n",
       "</style>\n",
       "<table border=\"1\" class=\"dataframe\">\n",
       "  <thead>\n",
       "    <tr style=\"text-align: right;\">\n",
       "      <th></th>\n",
       "      <th>DistrictId</th>\n",
       "      <th>Rooms</th>\n",
       "      <th>Square</th>\n",
       "      <th>LifeSquare</th>\n",
       "      <th>KitchenSquare</th>\n",
       "      <th>Floor</th>\n",
       "      <th>HouseFloor</th>\n",
       "      <th>HouseYear</th>\n",
       "      <th>Ecology_1</th>\n",
       "      <th>Social_1</th>\n",
       "      <th>Social_2</th>\n",
       "      <th>Social_3</th>\n",
       "      <th>Healthcare_1</th>\n",
       "      <th>Helthcare_2</th>\n",
       "      <th>Shops_1</th>\n",
       "    </tr>\n",
       "  </thead>\n",
       "  <tbody>\n",
       "    <tr>\n",
       "      <th>count</th>\n",
       "      <td>5000.000000</td>\n",
       "      <td>5000.000000</td>\n",
       "      <td>5000.000000</td>\n",
       "      <td>3959.000000</td>\n",
       "      <td>5000.000000</td>\n",
       "      <td>5000.000000</td>\n",
       "      <td>5000.000000</td>\n",
       "      <td>5000.000000</td>\n",
       "      <td>5000.000000</td>\n",
       "      <td>5000.000000</td>\n",
       "      <td>5000.000000</td>\n",
       "      <td>5000.000000</td>\n",
       "      <td>2623.000000</td>\n",
       "      <td>5000.00000</td>\n",
       "      <td>5000.000000</td>\n",
       "    </tr>\n",
       "    <tr>\n",
       "      <th>mean</th>\n",
       "      <td>51.279200</td>\n",
       "      <td>1.910000</td>\n",
       "      <td>56.449500</td>\n",
       "      <td>36.158810</td>\n",
       "      <td>5.976800</td>\n",
       "      <td>8.632000</td>\n",
       "      <td>12.601000</td>\n",
       "      <td>1984.392600</td>\n",
       "      <td>0.119874</td>\n",
       "      <td>24.933800</td>\n",
       "      <td>5406.900000</td>\n",
       "      <td>8.262600</td>\n",
       "      <td>1146.657263</td>\n",
       "      <td>1.31940</td>\n",
       "      <td>4.242800</td>\n",
       "    </tr>\n",
       "    <tr>\n",
       "      <th>std</th>\n",
       "      <td>44.179466</td>\n",
       "      <td>0.838594</td>\n",
       "      <td>19.092787</td>\n",
       "      <td>17.825287</td>\n",
       "      <td>9.950018</td>\n",
       "      <td>5.483228</td>\n",
       "      <td>6.789213</td>\n",
       "      <td>18.573149</td>\n",
       "      <td>0.120070</td>\n",
       "      <td>17.532202</td>\n",
       "      <td>4026.614773</td>\n",
       "      <td>23.863762</td>\n",
       "      <td>1044.744231</td>\n",
       "      <td>1.47994</td>\n",
       "      <td>4.777365</td>\n",
       "    </tr>\n",
       "    <tr>\n",
       "      <th>min</th>\n",
       "      <td>0.000000</td>\n",
       "      <td>0.000000</td>\n",
       "      <td>1.378543</td>\n",
       "      <td>0.333490</td>\n",
       "      <td>0.000000</td>\n",
       "      <td>1.000000</td>\n",
       "      <td>0.000000</td>\n",
       "      <td>1908.000000</td>\n",
       "      <td>0.000000</td>\n",
       "      <td>0.000000</td>\n",
       "      <td>168.000000</td>\n",
       "      <td>0.000000</td>\n",
       "      <td>0.000000</td>\n",
       "      <td>0.00000</td>\n",
       "      <td>0.000000</td>\n",
       "    </tr>\n",
       "    <tr>\n",
       "      <th>25%</th>\n",
       "      <td>21.000000</td>\n",
       "      <td>1.000000</td>\n",
       "      <td>41.906231</td>\n",
       "      <td>23.092026</td>\n",
       "      <td>1.000000</td>\n",
       "      <td>4.000000</td>\n",
       "      <td>9.000000</td>\n",
       "      <td>1973.000000</td>\n",
       "      <td>0.019509</td>\n",
       "      <td>6.000000</td>\n",
       "      <td>1564.000000</td>\n",
       "      <td>0.000000</td>\n",
       "      <td>325.000000</td>\n",
       "      <td>0.00000</td>\n",
       "      <td>1.000000</td>\n",
       "    </tr>\n",
       "    <tr>\n",
       "      <th>50%</th>\n",
       "      <td>37.000000</td>\n",
       "      <td>2.000000</td>\n",
       "      <td>52.921340</td>\n",
       "      <td>32.925087</td>\n",
       "      <td>6.000000</td>\n",
       "      <td>7.000000</td>\n",
       "      <td>12.000000</td>\n",
       "      <td>1977.000000</td>\n",
       "      <td>0.072158</td>\n",
       "      <td>25.000000</td>\n",
       "      <td>5285.000000</td>\n",
       "      <td>2.000000</td>\n",
       "      <td>900.000000</td>\n",
       "      <td>1.00000</td>\n",
       "      <td>3.000000</td>\n",
       "    </tr>\n",
       "    <tr>\n",
       "      <th>75%</th>\n",
       "      <td>77.000000</td>\n",
       "      <td>2.000000</td>\n",
       "      <td>66.285129</td>\n",
       "      <td>45.174091</td>\n",
       "      <td>9.000000</td>\n",
       "      <td>12.000000</td>\n",
       "      <td>17.000000</td>\n",
       "      <td>2000.000000</td>\n",
       "      <td>0.195781</td>\n",
       "      <td>36.000000</td>\n",
       "      <td>7287.000000</td>\n",
       "      <td>5.000000</td>\n",
       "      <td>1548.000000</td>\n",
       "      <td>2.00000</td>\n",
       "      <td>6.000000</td>\n",
       "    </tr>\n",
       "    <tr>\n",
       "      <th>max</th>\n",
       "      <td>212.000000</td>\n",
       "      <td>17.000000</td>\n",
       "      <td>223.453689</td>\n",
       "      <td>303.071094</td>\n",
       "      <td>620.000000</td>\n",
       "      <td>78.000000</td>\n",
       "      <td>99.000000</td>\n",
       "      <td>2020.000000</td>\n",
       "      <td>0.521867</td>\n",
       "      <td>74.000000</td>\n",
       "      <td>19083.000000</td>\n",
       "      <td>141.000000</td>\n",
       "      <td>4849.000000</td>\n",
       "      <td>6.00000</td>\n",
       "      <td>23.000000</td>\n",
       "    </tr>\n",
       "  </tbody>\n",
       "</table>\n",
       "</div>\n",
       "      <button class=\"colab-df-convert\" onclick=\"convertToInteractive('df-38de8c2d-7dc7-439c-a060-c4d9211da379')\"\n",
       "              title=\"Convert this dataframe to an interactive table.\"\n",
       "              style=\"display:none;\">\n",
       "        \n",
       "  <svg xmlns=\"http://www.w3.org/2000/svg\" height=\"24px\"viewBox=\"0 0 24 24\"\n",
       "       width=\"24px\">\n",
       "    <path d=\"M0 0h24v24H0V0z\" fill=\"none\"/>\n",
       "    <path d=\"M18.56 5.44l.94 2.06.94-2.06 2.06-.94-2.06-.94-.94-2.06-.94 2.06-2.06.94zm-11 1L8.5 8.5l.94-2.06 2.06-.94-2.06-.94L8.5 2.5l-.94 2.06-2.06.94zm10 10l.94 2.06.94-2.06 2.06-.94-2.06-.94-.94-2.06-.94 2.06-2.06.94z\"/><path d=\"M17.41 7.96l-1.37-1.37c-.4-.4-.92-.59-1.43-.59-.52 0-1.04.2-1.43.59L10.3 9.45l-7.72 7.72c-.78.78-.78 2.05 0 2.83L4 21.41c.39.39.9.59 1.41.59.51 0 1.02-.2 1.41-.59l7.78-7.78 2.81-2.81c.8-.78.8-2.07 0-2.86zM5.41 20L4 18.59l7.72-7.72 1.47 1.35L5.41 20z\"/>\n",
       "  </svg>\n",
       "      </button>\n",
       "      \n",
       "  <style>\n",
       "    .colab-df-container {\n",
       "      display:flex;\n",
       "      flex-wrap:wrap;\n",
       "      gap: 12px;\n",
       "    }\n",
       "\n",
       "    .colab-df-convert {\n",
       "      background-color: #E8F0FE;\n",
       "      border: none;\n",
       "      border-radius: 50%;\n",
       "      cursor: pointer;\n",
       "      display: none;\n",
       "      fill: #1967D2;\n",
       "      height: 32px;\n",
       "      padding: 0 0 0 0;\n",
       "      width: 32px;\n",
       "    }\n",
       "\n",
       "    .colab-df-convert:hover {\n",
       "      background-color: #E2EBFA;\n",
       "      box-shadow: 0px 1px 2px rgba(60, 64, 67, 0.3), 0px 1px 3px 1px rgba(60, 64, 67, 0.15);\n",
       "      fill: #174EA6;\n",
       "    }\n",
       "\n",
       "    [theme=dark] .colab-df-convert {\n",
       "      background-color: #3B4455;\n",
       "      fill: #D2E3FC;\n",
       "    }\n",
       "\n",
       "    [theme=dark] .colab-df-convert:hover {\n",
       "      background-color: #434B5C;\n",
       "      box-shadow: 0px 1px 3px 1px rgba(0, 0, 0, 0.15);\n",
       "      filter: drop-shadow(0px 1px 2px rgba(0, 0, 0, 0.3));\n",
       "      fill: #FFFFFF;\n",
       "    }\n",
       "  </style>\n",
       "\n",
       "      <script>\n",
       "        const buttonEl =\n",
       "          document.querySelector('#df-38de8c2d-7dc7-439c-a060-c4d9211da379 button.colab-df-convert');\n",
       "        buttonEl.style.display =\n",
       "          google.colab.kernel.accessAllowed ? 'block' : 'none';\n",
       "\n",
       "        async function convertToInteractive(key) {\n",
       "          const element = document.querySelector('#df-38de8c2d-7dc7-439c-a060-c4d9211da379');\n",
       "          const dataTable =\n",
       "            await google.colab.kernel.invokeFunction('convertToInteractive',\n",
       "                                                     [key], {});\n",
       "          if (!dataTable) return;\n",
       "\n",
       "          const docLinkHtml = 'Like what you see? Visit the ' +\n",
       "            '<a target=\"_blank\" href=https://colab.research.google.com/notebooks/data_table.ipynb>data table notebook</a>'\n",
       "            + ' to learn more about interactive tables.';\n",
       "          element.innerHTML = '';\n",
       "          dataTable['output_type'] = 'display_data';\n",
       "          await google.colab.output.renderOutput(dataTable, element);\n",
       "          const docLink = document.createElement('div');\n",
       "          docLink.innerHTML = docLinkHtml;\n",
       "          element.appendChild(docLink);\n",
       "        }\n",
       "      </script>\n",
       "    </div>\n",
       "  </div>\n",
       "  "
      ],
      "text/plain": [
       "        DistrictId        Rooms       Square   LifeSquare  KitchenSquare  \\\n",
       "count  5000.000000  5000.000000  5000.000000  3959.000000    5000.000000   \n",
       "mean     51.279200     1.910000    56.449500    36.158810       5.976800   \n",
       "std      44.179466     0.838594    19.092787    17.825287       9.950018   \n",
       "min       0.000000     0.000000     1.378543     0.333490       0.000000   \n",
       "25%      21.000000     1.000000    41.906231    23.092026       1.000000   \n",
       "50%      37.000000     2.000000    52.921340    32.925087       6.000000   \n",
       "75%      77.000000     2.000000    66.285129    45.174091       9.000000   \n",
       "max     212.000000    17.000000   223.453689   303.071094     620.000000   \n",
       "\n",
       "             Floor   HouseFloor    HouseYear    Ecology_1     Social_1  \\\n",
       "count  5000.000000  5000.000000  5000.000000  5000.000000  5000.000000   \n",
       "mean      8.632000    12.601000  1984.392600     0.119874    24.933800   \n",
       "std       5.483228     6.789213    18.573149     0.120070    17.532202   \n",
       "min       1.000000     0.000000  1908.000000     0.000000     0.000000   \n",
       "25%       4.000000     9.000000  1973.000000     0.019509     6.000000   \n",
       "50%       7.000000    12.000000  1977.000000     0.072158    25.000000   \n",
       "75%      12.000000    17.000000  2000.000000     0.195781    36.000000   \n",
       "max      78.000000    99.000000  2020.000000     0.521867    74.000000   \n",
       "\n",
       "           Social_2     Social_3  Healthcare_1  Helthcare_2      Shops_1  \n",
       "count   5000.000000  5000.000000   2623.000000   5000.00000  5000.000000  \n",
       "mean    5406.900000     8.262600   1146.657263      1.31940     4.242800  \n",
       "std     4026.614773    23.863762   1044.744231      1.47994     4.777365  \n",
       "min      168.000000     0.000000      0.000000      0.00000     0.000000  \n",
       "25%     1564.000000     0.000000    325.000000      0.00000     1.000000  \n",
       "50%     5285.000000     2.000000    900.000000      1.00000     3.000000  \n",
       "75%     7287.000000     5.000000   1548.000000      2.00000     6.000000  \n",
       "max    19083.000000   141.000000   4849.000000      6.00000    23.000000  "
      ]
     },
     "execution_count": 131,
     "metadata": {},
     "output_type": "execute_result"
    }
   ],
   "source": [
    "test_data.describe()"
   ]
  },
  {
   "cell_type": "code",
   "execution_count": 132,
   "id": "cNSiivED22JQ",
   "metadata": {
    "executionInfo": {
     "elapsed": 2,
     "status": "ok",
     "timestamp": 1669635906236,
     "user": {
      "displayName": "Артем Савочкин",
      "userId": "12296895567675270115"
     },
     "user_tz": -180
    },
    "id": "cNSiivED22JQ"
   },
   "outputs": [],
   "source": [
    "test_data[\"LifeSquare\"] = test_data[\"LifeSquare\"].fillna(test_data[\"LifeSquare\"].median())\n",
    "test_data[\"Healthcare_1\"] = test_data[\"Healthcare_1\"].fillna(test_data[\"Healthcare_1\"].median())"
   ]
  },
  {
   "cell_type": "code",
   "execution_count": 133,
   "id": "5-nARDEp4aaI",
   "metadata": {
    "colab": {
     "base_uri": "https://localhost:8080/"
    },
    "executionInfo": {
     "elapsed": 3,
     "status": "ok",
     "timestamp": 1669635906520,
     "user": {
      "displayName": "Артем Савочкин",
      "userId": "12296895567675270115"
     },
     "user_tz": -180
    },
    "id": "5-nARDEp4aaI",
    "outputId": "0a169492-ef2f-46bd-b7aa-39cba21886c3"
   },
   "outputs": [
    {
     "name": "stdout",
     "output_type": "stream",
     "text": [
      "<class 'pandas.core.frame.DataFrame'>\n",
      "RangeIndex: 5000 entries, 0 to 4999\n",
      "Data columns (total 18 columns):\n",
      " #   Column         Non-Null Count  Dtype  \n",
      "---  ------         --------------  -----  \n",
      " 0   DistrictId     5000 non-null   int64  \n",
      " 1   Rooms          5000 non-null   float64\n",
      " 2   Square         5000 non-null   float64\n",
      " 3   LifeSquare     5000 non-null   float64\n",
      " 4   KitchenSquare  5000 non-null   float64\n",
      " 5   Floor          5000 non-null   int64  \n",
      " 6   HouseFloor     5000 non-null   float64\n",
      " 7   HouseYear      5000 non-null   int64  \n",
      " 8   Ecology_1      5000 non-null   float64\n",
      " 9   Ecology_2      5000 non-null   object \n",
      " 10  Ecology_3      5000 non-null   object \n",
      " 11  Social_1       5000 non-null   int64  \n",
      " 12  Social_2       5000 non-null   int64  \n",
      " 13  Social_3       5000 non-null   int64  \n",
      " 14  Healthcare_1   5000 non-null   float64\n",
      " 15  Helthcare_2    5000 non-null   int64  \n",
      " 16  Shops_1        5000 non-null   int64  \n",
      " 17  Shops_2        5000 non-null   object \n",
      "dtypes: float64(7), int64(8), object(3)\n",
      "memory usage: 703.2+ KB\n"
     ]
    }
   ],
   "source": [
    "test_data.info()"
   ]
  },
  {
   "cell_type": "code",
   "execution_count": 134,
   "id": "BHTSMrhq4tW6",
   "metadata": {
    "executionInfo": {
     "elapsed": 2,
     "status": "ok",
     "timestamp": 1669635908572,
     "user": {
      "displayName": "Артем Савочкин",
      "userId": "12296895567675270115"
     },
     "user_tz": -180
    },
    "id": "BHTSMrhq4tW6"
   },
   "outputs": [],
   "source": [
    "dummy_1 = pd.get_dummies(test_data.Ecology_2, prefix='Ec_2')\n",
    "dummy_2 = pd.get_dummies(test_data.Ecology_2, prefix='Ec_3')\n",
    "dummy_3 = pd.get_dummies(test_data.Ecology_2, prefix='Sh_2')"
   ]
  },
  {
   "cell_type": "code",
   "execution_count": 135,
   "id": "D5t8LEar7MUF",
   "metadata": {
    "colab": {
     "base_uri": "https://localhost:8080/"
    },
    "executionInfo": {
     "elapsed": 4,
     "status": "ok",
     "timestamp": 1669635908873,
     "user": {
      "displayName": "Артем Савочкин",
      "userId": "12296895567675270115"
     },
     "user_tz": -180
    },
    "id": "D5t8LEar7MUF",
    "outputId": "9fd3913c-aace-48dd-a585-6d6c8e30d3ff"
   },
   "outputs": [
    {
     "data": {
      "text/plain": [
       "0       B\n",
       "1       A\n",
       "2       B\n",
       "3       B\n",
       "4       B\n",
       "       ..\n",
       "4995    B\n",
       "4996    B\n",
       "4997    B\n",
       "4998    B\n",
       "4999    B\n",
       "Name: Shops_2, Length: 5000, dtype: object"
      ]
     },
     "execution_count": 135,
     "metadata": {},
     "output_type": "execute_result"
    }
   ],
   "source": [
    "test_data = pd.concat([test_data, dummy_1, dummy_2, dummy_3], axis=1)\n",
    "test_data.pop(\"Ecology_2\")\n",
    "test_data.pop(\"Ecology_3\")\n",
    "test_data.pop(\"Shops_2\")"
   ]
  },
  {
   "cell_type": "code",
   "execution_count": 136,
   "id": "EwYml1Cv7DL8",
   "metadata": {
    "colab": {
     "base_uri": "https://localhost:8080/",
     "height": 299
    },
    "executionInfo": {
     "elapsed": 4,
     "status": "ok",
     "timestamp": 1669635909892,
     "user": {
      "displayName": "Артем Савочкин",
      "userId": "12296895567675270115"
     },
     "user_tz": -180
    },
    "id": "EwYml1Cv7DL8",
    "outputId": "3739cb0e-ddbd-4322-b383-55b55690fc09"
   },
   "outputs": [
    {
     "data": {
      "text/html": [
       "\n",
       "  <div id=\"df-1dfd543f-80b1-438b-bea7-252d233fa55f\">\n",
       "    <div class=\"colab-df-container\">\n",
       "      <div>\n",
       "<style scoped>\n",
       "    .dataframe tbody tr th:only-of-type {\n",
       "        vertical-align: middle;\n",
       "    }\n",
       "\n",
       "    .dataframe tbody tr th {\n",
       "        vertical-align: top;\n",
       "    }\n",
       "\n",
       "    .dataframe thead th {\n",
       "        text-align: right;\n",
       "    }\n",
       "</style>\n",
       "<table border=\"1\" class=\"dataframe\">\n",
       "  <thead>\n",
       "    <tr style=\"text-align: right;\">\n",
       "      <th></th>\n",
       "      <th>DistrictId</th>\n",
       "      <th>Rooms</th>\n",
       "      <th>Square</th>\n",
       "      <th>LifeSquare</th>\n",
       "      <th>KitchenSquare</th>\n",
       "      <th>Floor</th>\n",
       "      <th>HouseFloor</th>\n",
       "      <th>HouseYear</th>\n",
       "      <th>Ecology_1</th>\n",
       "      <th>Social_1</th>\n",
       "      <th>...</th>\n",
       "      <th>Social_3</th>\n",
       "      <th>Healthcare_1</th>\n",
       "      <th>Helthcare_2</th>\n",
       "      <th>Shops_1</th>\n",
       "      <th>Ec_2_A</th>\n",
       "      <th>Ec_2_B</th>\n",
       "      <th>Ec_3_A</th>\n",
       "      <th>Ec_3_B</th>\n",
       "      <th>Sh_2_A</th>\n",
       "      <th>Sh_2_B</th>\n",
       "    </tr>\n",
       "  </thead>\n",
       "  <tbody>\n",
       "    <tr>\n",
       "      <th>0</th>\n",
       "      <td>44</td>\n",
       "      <td>1.0</td>\n",
       "      <td>36.847630</td>\n",
       "      <td>19.094182</td>\n",
       "      <td>5.0</td>\n",
       "      <td>5</td>\n",
       "      <td>9.0</td>\n",
       "      <td>1970</td>\n",
       "      <td>0.036122</td>\n",
       "      <td>24</td>\n",
       "      <td>...</td>\n",
       "      <td>0</td>\n",
       "      <td>1036.0</td>\n",
       "      <td>1</td>\n",
       "      <td>1</td>\n",
       "      <td>0</td>\n",
       "      <td>1</td>\n",
       "      <td>0</td>\n",
       "      <td>1</td>\n",
       "      <td>0</td>\n",
       "      <td>1</td>\n",
       "    </tr>\n",
       "    <tr>\n",
       "      <th>1</th>\n",
       "      <td>62</td>\n",
       "      <td>1.0</td>\n",
       "      <td>42.493907</td>\n",
       "      <td>42.568133</td>\n",
       "      <td>10.0</td>\n",
       "      <td>7</td>\n",
       "      <td>17.0</td>\n",
       "      <td>2017</td>\n",
       "      <td>0.072158</td>\n",
       "      <td>2</td>\n",
       "      <td>...</td>\n",
       "      <td>1</td>\n",
       "      <td>900.0</td>\n",
       "      <td>0</td>\n",
       "      <td>0</td>\n",
       "      <td>0</td>\n",
       "      <td>1</td>\n",
       "      <td>0</td>\n",
       "      <td>1</td>\n",
       "      <td>0</td>\n",
       "      <td>1</td>\n",
       "    </tr>\n",
       "    <tr>\n",
       "      <th>2</th>\n",
       "      <td>27</td>\n",
       "      <td>2.0</td>\n",
       "      <td>59.463678</td>\n",
       "      <td>32.925087</td>\n",
       "      <td>9.0</td>\n",
       "      <td>19</td>\n",
       "      <td>19.0</td>\n",
       "      <td>1977</td>\n",
       "      <td>0.211401</td>\n",
       "      <td>9</td>\n",
       "      <td>...</td>\n",
       "      <td>0</td>\n",
       "      <td>900.0</td>\n",
       "      <td>0</td>\n",
       "      <td>1</td>\n",
       "      <td>0</td>\n",
       "      <td>1</td>\n",
       "      <td>0</td>\n",
       "      <td>1</td>\n",
       "      <td>0</td>\n",
       "      <td>1</td>\n",
       "    </tr>\n",
       "    <tr>\n",
       "      <th>3</th>\n",
       "      <td>23</td>\n",
       "      <td>3.0</td>\n",
       "      <td>49.646030</td>\n",
       "      <td>33.893825</td>\n",
       "      <td>6.0</td>\n",
       "      <td>2</td>\n",
       "      <td>2.0</td>\n",
       "      <td>1965</td>\n",
       "      <td>0.014073</td>\n",
       "      <td>2</td>\n",
       "      <td>...</td>\n",
       "      <td>0</td>\n",
       "      <td>900.0</td>\n",
       "      <td>0</td>\n",
       "      <td>0</td>\n",
       "      <td>0</td>\n",
       "      <td>1</td>\n",
       "      <td>0</td>\n",
       "      <td>1</td>\n",
       "      <td>0</td>\n",
       "      <td>1</td>\n",
       "    </tr>\n",
       "    <tr>\n",
       "      <th>4</th>\n",
       "      <td>74</td>\n",
       "      <td>1.0</td>\n",
       "      <td>53.837056</td>\n",
       "      <td>32.925087</td>\n",
       "      <td>1.0</td>\n",
       "      <td>8</td>\n",
       "      <td>17.0</td>\n",
       "      <td>1977</td>\n",
       "      <td>0.309479</td>\n",
       "      <td>35</td>\n",
       "      <td>...</td>\n",
       "      <td>4</td>\n",
       "      <td>990.0</td>\n",
       "      <td>0</td>\n",
       "      <td>6</td>\n",
       "      <td>0</td>\n",
       "      <td>1</td>\n",
       "      <td>0</td>\n",
       "      <td>1</td>\n",
       "      <td>0</td>\n",
       "      <td>1</td>\n",
       "    </tr>\n",
       "  </tbody>\n",
       "</table>\n",
       "<p>5 rows × 21 columns</p>\n",
       "</div>\n",
       "      <button class=\"colab-df-convert\" onclick=\"convertToInteractive('df-1dfd543f-80b1-438b-bea7-252d233fa55f')\"\n",
       "              title=\"Convert this dataframe to an interactive table.\"\n",
       "              style=\"display:none;\">\n",
       "        \n",
       "  <svg xmlns=\"http://www.w3.org/2000/svg\" height=\"24px\"viewBox=\"0 0 24 24\"\n",
       "       width=\"24px\">\n",
       "    <path d=\"M0 0h24v24H0V0z\" fill=\"none\"/>\n",
       "    <path d=\"M18.56 5.44l.94 2.06.94-2.06 2.06-.94-2.06-.94-.94-2.06-.94 2.06-2.06.94zm-11 1L8.5 8.5l.94-2.06 2.06-.94-2.06-.94L8.5 2.5l-.94 2.06-2.06.94zm10 10l.94 2.06.94-2.06 2.06-.94-2.06-.94-.94-2.06-.94 2.06-2.06.94z\"/><path d=\"M17.41 7.96l-1.37-1.37c-.4-.4-.92-.59-1.43-.59-.52 0-1.04.2-1.43.59L10.3 9.45l-7.72 7.72c-.78.78-.78 2.05 0 2.83L4 21.41c.39.39.9.59 1.41.59.51 0 1.02-.2 1.41-.59l7.78-7.78 2.81-2.81c.8-.78.8-2.07 0-2.86zM5.41 20L4 18.59l7.72-7.72 1.47 1.35L5.41 20z\"/>\n",
       "  </svg>\n",
       "      </button>\n",
       "      \n",
       "  <style>\n",
       "    .colab-df-container {\n",
       "      display:flex;\n",
       "      flex-wrap:wrap;\n",
       "      gap: 12px;\n",
       "    }\n",
       "\n",
       "    .colab-df-convert {\n",
       "      background-color: #E8F0FE;\n",
       "      border: none;\n",
       "      border-radius: 50%;\n",
       "      cursor: pointer;\n",
       "      display: none;\n",
       "      fill: #1967D2;\n",
       "      height: 32px;\n",
       "      padding: 0 0 0 0;\n",
       "      width: 32px;\n",
       "    }\n",
       "\n",
       "    .colab-df-convert:hover {\n",
       "      background-color: #E2EBFA;\n",
       "      box-shadow: 0px 1px 2px rgba(60, 64, 67, 0.3), 0px 1px 3px 1px rgba(60, 64, 67, 0.15);\n",
       "      fill: #174EA6;\n",
       "    }\n",
       "\n",
       "    [theme=dark] .colab-df-convert {\n",
       "      background-color: #3B4455;\n",
       "      fill: #D2E3FC;\n",
       "    }\n",
       "\n",
       "    [theme=dark] .colab-df-convert:hover {\n",
       "      background-color: #434B5C;\n",
       "      box-shadow: 0px 1px 3px 1px rgba(0, 0, 0, 0.15);\n",
       "      filter: drop-shadow(0px 1px 2px rgba(0, 0, 0, 0.3));\n",
       "      fill: #FFFFFF;\n",
       "    }\n",
       "  </style>\n",
       "\n",
       "      <script>\n",
       "        const buttonEl =\n",
       "          document.querySelector('#df-1dfd543f-80b1-438b-bea7-252d233fa55f button.colab-df-convert');\n",
       "        buttonEl.style.display =\n",
       "          google.colab.kernel.accessAllowed ? 'block' : 'none';\n",
       "\n",
       "        async function convertToInteractive(key) {\n",
       "          const element = document.querySelector('#df-1dfd543f-80b1-438b-bea7-252d233fa55f');\n",
       "          const dataTable =\n",
       "            await google.colab.kernel.invokeFunction('convertToInteractive',\n",
       "                                                     [key], {});\n",
       "          if (!dataTable) return;\n",
       "\n",
       "          const docLinkHtml = 'Like what you see? Visit the ' +\n",
       "            '<a target=\"_blank\" href=https://colab.research.google.com/notebooks/data_table.ipynb>data table notebook</a>'\n",
       "            + ' to learn more about interactive tables.';\n",
       "          element.innerHTML = '';\n",
       "          dataTable['output_type'] = 'display_data';\n",
       "          await google.colab.output.renderOutput(dataTable, element);\n",
       "          const docLink = document.createElement('div');\n",
       "          docLink.innerHTML = docLinkHtml;\n",
       "          element.appendChild(docLink);\n",
       "        }\n",
       "      </script>\n",
       "    </div>\n",
       "  </div>\n",
       "  "
      ],
      "text/plain": [
       "   DistrictId  Rooms     Square  LifeSquare  KitchenSquare  Floor  HouseFloor  \\\n",
       "0          44    1.0  36.847630   19.094182            5.0      5         9.0   \n",
       "1          62    1.0  42.493907   42.568133           10.0      7        17.0   \n",
       "2          27    2.0  59.463678   32.925087            9.0     19        19.0   \n",
       "3          23    3.0  49.646030   33.893825            6.0      2         2.0   \n",
       "4          74    1.0  53.837056   32.925087            1.0      8        17.0   \n",
       "\n",
       "   HouseYear  Ecology_1  Social_1  ...  Social_3  Healthcare_1  Helthcare_2  \\\n",
       "0       1970   0.036122        24  ...         0        1036.0            1   \n",
       "1       2017   0.072158         2  ...         1         900.0            0   \n",
       "2       1977   0.211401         9  ...         0         900.0            0   \n",
       "3       1965   0.014073         2  ...         0         900.0            0   \n",
       "4       1977   0.309479        35  ...         4         990.0            0   \n",
       "\n",
       "   Shops_1  Ec_2_A  Ec_2_B  Ec_3_A  Ec_3_B  Sh_2_A  Sh_2_B  \n",
       "0        1       0       1       0       1       0       1  \n",
       "1        0       0       1       0       1       0       1  \n",
       "2        1       0       1       0       1       0       1  \n",
       "3        0       0       1       0       1       0       1  \n",
       "4        6       0       1       0       1       0       1  \n",
       "\n",
       "[5 rows x 21 columns]"
      ]
     },
     "execution_count": 136,
     "metadata": {},
     "output_type": "execute_result"
    }
   ],
   "source": [
    "test_data.head()"
   ]
  },
  {
   "cell_type": "code",
   "execution_count": 137,
   "id": "HNJE-t7E7Yzs",
   "metadata": {
    "colab": {
     "base_uri": "https://localhost:8080/"
    },
    "executionInfo": {
     "elapsed": 5,
     "status": "ok",
     "timestamp": 1669635911189,
     "user": {
      "displayName": "Артем Савочкин",
      "userId": "12296895567675270115"
     },
     "user_tz": -180
    },
    "id": "HNJE-t7E7Yzs",
    "outputId": "5c16167a-4a6e-4123-c397-5974d46d4da1"
   },
   "outputs": [
    {
     "name": "stdout",
     "output_type": "stream",
     "text": [
      "<class 'pandas.core.frame.DataFrame'>\n",
      "RangeIndex: 5000 entries, 0 to 4999\n",
      "Data columns (total 21 columns):\n",
      " #   Column         Non-Null Count  Dtype  \n",
      "---  ------         --------------  -----  \n",
      " 0   DistrictId     5000 non-null   int64  \n",
      " 1   Rooms          5000 non-null   float64\n",
      " 2   Square         5000 non-null   float64\n",
      " 3   LifeSquare     5000 non-null   float64\n",
      " 4   KitchenSquare  5000 non-null   float64\n",
      " 5   Floor          5000 non-null   int64  \n",
      " 6   HouseFloor     5000 non-null   float64\n",
      " 7   HouseYear      5000 non-null   int64  \n",
      " 8   Ecology_1      5000 non-null   float64\n",
      " 9   Social_1       5000 non-null   int64  \n",
      " 10  Social_2       5000 non-null   int64  \n",
      " 11  Social_3       5000 non-null   int64  \n",
      " 12  Healthcare_1   5000 non-null   float64\n",
      " 13  Helthcare_2    5000 non-null   int64  \n",
      " 14  Shops_1        5000 non-null   int64  \n",
      " 15  Ec_2_A         5000 non-null   uint8  \n",
      " 16  Ec_2_B         5000 non-null   uint8  \n",
      " 17  Ec_3_A         5000 non-null   uint8  \n",
      " 18  Ec_3_B         5000 non-null   uint8  \n",
      " 19  Sh_2_A         5000 non-null   uint8  \n",
      " 20  Sh_2_B         5000 non-null   uint8  \n",
      "dtypes: float64(7), int64(8), uint8(6)\n",
      "memory usage: 615.4 KB\n"
     ]
    }
   ],
   "source": [
    "test_data.info()"
   ]
  },
  {
   "cell_type": "code",
   "execution_count": 138,
   "id": "qeSSBevuDx92",
   "metadata": {
    "executionInfo": {
     "elapsed": 671,
     "status": "ok",
     "timestamp": 1669636497425,
     "user": {
      "displayName": "Артем Савочкин",
      "userId": "12296895567675270115"
     },
     "user_tz": -180
    },
    "id": "qeSSBevuDx92"
   },
   "outputs": [],
   "source": [
    "predictions = gb.predict(test_data)"
   ]
  },
  {
   "cell_type": "markdown",
   "id": "3_jqyzoN_-TD",
   "metadata": {
    "id": "3_jqyzoN_-TD"
   },
   "source": [
    "Создадим Dataframe с предсказаниями модели и запишем его в файл"
   ]
  },
  {
   "cell_type": "code",
   "execution_count": 139,
   "id": "oTTuETgyAQrX",
   "metadata": {
    "colab": {
     "base_uri": "https://localhost:8080/",
     "height": 424
    },
    "executionInfo": {
     "elapsed": 5,
     "status": "ok",
     "timestamp": 1669636500143,
     "user": {
      "displayName": "Артем Савочкин",
      "userId": "12296895567675270115"
     },
     "user_tz": -180
    },
    "id": "oTTuETgyAQrX",
    "outputId": "4565ff05-b5ec-4593-aa98-389007de15f6"
   },
   "outputs": [
    {
     "data": {
      "text/html": [
       "\n",
       "  <div id=\"df-9ce508b8-d8e4-4ce0-aa85-d83fee120c20\">\n",
       "    <div class=\"colab-df-container\">\n",
       "      <div>\n",
       "<style scoped>\n",
       "    .dataframe tbody tr th:only-of-type {\n",
       "        vertical-align: middle;\n",
       "    }\n",
       "\n",
       "    .dataframe tbody tr th {\n",
       "        vertical-align: top;\n",
       "    }\n",
       "\n",
       "    .dataframe thead th {\n",
       "        text-align: right;\n",
       "    }\n",
       "</style>\n",
       "<table border=\"1\" class=\"dataframe\">\n",
       "  <thead>\n",
       "    <tr style=\"text-align: right;\">\n",
       "      <th></th>\n",
       "      <th>Id</th>\n",
       "      <th>Price</th>\n",
       "    </tr>\n",
       "  </thead>\n",
       "  <tbody>\n",
       "    <tr>\n",
       "      <th>0</th>\n",
       "      <td>4567</td>\n",
       "      <td>162527.912470</td>\n",
       "    </tr>\n",
       "    <tr>\n",
       "      <th>1</th>\n",
       "      <td>5925</td>\n",
       "      <td>119474.003809</td>\n",
       "    </tr>\n",
       "    <tr>\n",
       "      <th>2</th>\n",
       "      <td>960</td>\n",
       "      <td>150839.070578</td>\n",
       "    </tr>\n",
       "    <tr>\n",
       "      <th>3</th>\n",
       "      <td>3848</td>\n",
       "      <td>127907.353636</td>\n",
       "    </tr>\n",
       "    <tr>\n",
       "      <th>4</th>\n",
       "      <td>746</td>\n",
       "      <td>197265.190373</td>\n",
       "    </tr>\n",
       "    <tr>\n",
       "      <th>...</th>\n",
       "      <td>...</td>\n",
       "      <td>...</td>\n",
       "    </tr>\n",
       "    <tr>\n",
       "      <th>4995</th>\n",
       "      <td>10379</td>\n",
       "      <td>175026.974910</td>\n",
       "    </tr>\n",
       "    <tr>\n",
       "      <th>4996</th>\n",
       "      <td>16138</td>\n",
       "      <td>345005.444580</td>\n",
       "    </tr>\n",
       "    <tr>\n",
       "      <th>4997</th>\n",
       "      <td>3912</td>\n",
       "      <td>142742.834564</td>\n",
       "    </tr>\n",
       "    <tr>\n",
       "      <th>4998</th>\n",
       "      <td>5722</td>\n",
       "      <td>185839.550783</td>\n",
       "    </tr>\n",
       "    <tr>\n",
       "      <th>4999</th>\n",
       "      <td>11004</td>\n",
       "      <td>264195.469727</td>\n",
       "    </tr>\n",
       "  </tbody>\n",
       "</table>\n",
       "<p>5000 rows × 2 columns</p>\n",
       "</div>\n",
       "      <button class=\"colab-df-convert\" onclick=\"convertToInteractive('df-9ce508b8-d8e4-4ce0-aa85-d83fee120c20')\"\n",
       "              title=\"Convert this dataframe to an interactive table.\"\n",
       "              style=\"display:none;\">\n",
       "        \n",
       "  <svg xmlns=\"http://www.w3.org/2000/svg\" height=\"24px\"viewBox=\"0 0 24 24\"\n",
       "       width=\"24px\">\n",
       "    <path d=\"M0 0h24v24H0V0z\" fill=\"none\"/>\n",
       "    <path d=\"M18.56 5.44l.94 2.06.94-2.06 2.06-.94-2.06-.94-.94-2.06-.94 2.06-2.06.94zm-11 1L8.5 8.5l.94-2.06 2.06-.94-2.06-.94L8.5 2.5l-.94 2.06-2.06.94zm10 10l.94 2.06.94-2.06 2.06-.94-2.06-.94-.94-2.06-.94 2.06-2.06.94z\"/><path d=\"M17.41 7.96l-1.37-1.37c-.4-.4-.92-.59-1.43-.59-.52 0-1.04.2-1.43.59L10.3 9.45l-7.72 7.72c-.78.78-.78 2.05 0 2.83L4 21.41c.39.39.9.59 1.41.59.51 0 1.02-.2 1.41-.59l7.78-7.78 2.81-2.81c.8-.78.8-2.07 0-2.86zM5.41 20L4 18.59l7.72-7.72 1.47 1.35L5.41 20z\"/>\n",
       "  </svg>\n",
       "      </button>\n",
       "      \n",
       "  <style>\n",
       "    .colab-df-container {\n",
       "      display:flex;\n",
       "      flex-wrap:wrap;\n",
       "      gap: 12px;\n",
       "    }\n",
       "\n",
       "    .colab-df-convert {\n",
       "      background-color: #E8F0FE;\n",
       "      border: none;\n",
       "      border-radius: 50%;\n",
       "      cursor: pointer;\n",
       "      display: none;\n",
       "      fill: #1967D2;\n",
       "      height: 32px;\n",
       "      padding: 0 0 0 0;\n",
       "      width: 32px;\n",
       "    }\n",
       "\n",
       "    .colab-df-convert:hover {\n",
       "      background-color: #E2EBFA;\n",
       "      box-shadow: 0px 1px 2px rgba(60, 64, 67, 0.3), 0px 1px 3px 1px rgba(60, 64, 67, 0.15);\n",
       "      fill: #174EA6;\n",
       "    }\n",
       "\n",
       "    [theme=dark] .colab-df-convert {\n",
       "      background-color: #3B4455;\n",
       "      fill: #D2E3FC;\n",
       "    }\n",
       "\n",
       "    [theme=dark] .colab-df-convert:hover {\n",
       "      background-color: #434B5C;\n",
       "      box-shadow: 0px 1px 3px 1px rgba(0, 0, 0, 0.15);\n",
       "      filter: drop-shadow(0px 1px 2px rgba(0, 0, 0, 0.3));\n",
       "      fill: #FFFFFF;\n",
       "    }\n",
       "  </style>\n",
       "\n",
       "      <script>\n",
       "        const buttonEl =\n",
       "          document.querySelector('#df-9ce508b8-d8e4-4ce0-aa85-d83fee120c20 button.colab-df-convert');\n",
       "        buttonEl.style.display =\n",
       "          google.colab.kernel.accessAllowed ? 'block' : 'none';\n",
       "\n",
       "        async function convertToInteractive(key) {\n",
       "          const element = document.querySelector('#df-9ce508b8-d8e4-4ce0-aa85-d83fee120c20');\n",
       "          const dataTable =\n",
       "            await google.colab.kernel.invokeFunction('convertToInteractive',\n",
       "                                                     [key], {});\n",
       "          if (!dataTable) return;\n",
       "\n",
       "          const docLinkHtml = 'Like what you see? Visit the ' +\n",
       "            '<a target=\"_blank\" href=https://colab.research.google.com/notebooks/data_table.ipynb>data table notebook</a>'\n",
       "            + ' to learn more about interactive tables.';\n",
       "          element.innerHTML = '';\n",
       "          dataTable['output_type'] = 'display_data';\n",
       "          await google.colab.output.renderOutput(dataTable, element);\n",
       "          const docLink = document.createElement('div');\n",
       "          docLink.innerHTML = docLinkHtml;\n",
       "          element.appendChild(docLink);\n",
       "        }\n",
       "      </script>\n",
       "    </div>\n",
       "  </div>\n",
       "  "
      ],
      "text/plain": [
       "         Id          Price\n",
       "0      4567  162527.912470\n",
       "1      5925  119474.003809\n",
       "2       960  150839.070578\n",
       "3      3848  127907.353636\n",
       "4       746  197265.190373\n",
       "...     ...            ...\n",
       "4995  10379  175026.974910\n",
       "4996  16138  345005.444580\n",
       "4997   3912  142742.834564\n",
       "4998   5722  185839.550783\n",
       "4999  11004  264195.469727\n",
       "\n",
       "[5000 rows x 2 columns]"
      ]
     },
     "execution_count": 139,
     "metadata": {},
     "output_type": "execute_result"
    }
   ],
   "source": [
    "df = pd.DataFrame({\"Id\": id, \"Price\": predictions})\n",
    "df"
   ]
  },
  {
   "cell_type": "code",
   "execution_count": 140,
   "id": "ojMvqXYHAuKN",
   "metadata": {
    "executionInfo": {
     "elapsed": 646,
     "status": "ok",
     "timestamp": 1669636502702,
     "user": {
      "displayName": "Артем Савочкин",
      "userId": "12296895567675270115"
     },
     "user_tz": -180
    },
    "id": "ojMvqXYHAuKN"
   },
   "outputs": [],
   "source": [
    "df.to_csv(\"/content/drive/My Drive/Регрессия/output.csv\", index=False)"
   ]
  }
 ],
 "metadata": {
  "colab": {
   "provenance": []
  },
  "kernelspec": {
   "display_name": "Python 3 (ipykernel)",
   "language": "python",
   "name": "python3"
  },
  "language_info": {
   "codemirror_mode": {
    "name": "ipython",
    "version": 3
   },
   "file_extension": ".py",
   "mimetype": "text/x-python",
   "name": "python",
   "nbconvert_exporter": "python",
   "pygments_lexer": "ipython3",
   "version": "3.9.7"
  }
 },
 "nbformat": 4,
 "nbformat_minor": 5
}
